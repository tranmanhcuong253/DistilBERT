{
  "nbformat": 4,
  "nbformat_minor": 0,
  "metadata": {
    "colab": {
      "provenance": [],
      "gpuType": "T4",
      "authorship_tag": "ABX9TyNGFQU1I44lJh+MSplqZbhY",
      "include_colab_link": true
    },
    "kernelspec": {
      "name": "python3",
      "display_name": "Python 3"
    },
    "language_info": {
      "name": "python"
    },
    "accelerator": "GPU",
    "widgets": {
      "application/vnd.jupyter.widget-state+json": {
        "cb2eca3e1e0f4fee9c2f56b5d64c9c09": {
          "model_module": "@jupyter-widgets/controls",
          "model_name": "HBoxModel",
          "model_module_version": "1.5.0",
          "state": {
            "_dom_classes": [],
            "_model_module": "@jupyter-widgets/controls",
            "_model_module_version": "1.5.0",
            "_model_name": "HBoxModel",
            "_view_count": null,
            "_view_module": "@jupyter-widgets/controls",
            "_view_module_version": "1.5.0",
            "_view_name": "HBoxView",
            "box_style": "",
            "children": [
              "IPY_MODEL_1f8778e0ef8347a2a611588b2f8a8fbd",
              "IPY_MODEL_e2caa80e79904afbbd3661eeb6396d86",
              "IPY_MODEL_a2dc1a458e204796a354a86cdb68d8d0"
            ],
            "layout": "IPY_MODEL_5132f147bd6f487e951648d225f69f43"
          }
        },
        "1f8778e0ef8347a2a611588b2f8a8fbd": {
          "model_module": "@jupyter-widgets/controls",
          "model_name": "HTMLModel",
          "model_module_version": "1.5.0",
          "state": {
            "_dom_classes": [],
            "_model_module": "@jupyter-widgets/controls",
            "_model_module_version": "1.5.0",
            "_model_name": "HTMLModel",
            "_view_count": null,
            "_view_module": "@jupyter-widgets/controls",
            "_view_module_version": "1.5.0",
            "_view_name": "HTMLView",
            "description": "",
            "description_tooltip": null,
            "layout": "IPY_MODEL_055e5ae934a146d1b509d3aa344c2b48",
            "placeholder": "​",
            "style": "IPY_MODEL_98db3429e28a4840b4a670197d5706a2",
            "value": "tokenizer_config.json: 100%"
          }
        },
        "e2caa80e79904afbbd3661eeb6396d86": {
          "model_module": "@jupyter-widgets/controls",
          "model_name": "FloatProgressModel",
          "model_module_version": "1.5.0",
          "state": {
            "_dom_classes": [],
            "_model_module": "@jupyter-widgets/controls",
            "_model_module_version": "1.5.0",
            "_model_name": "FloatProgressModel",
            "_view_count": null,
            "_view_module": "@jupyter-widgets/controls",
            "_view_module_version": "1.5.0",
            "_view_name": "ProgressView",
            "bar_style": "success",
            "description": "",
            "description_tooltip": null,
            "layout": "IPY_MODEL_5fe49d6e5b444588a19db6f1d767a9ef",
            "max": 48,
            "min": 0,
            "orientation": "horizontal",
            "style": "IPY_MODEL_62cf4d3efb8748ba90f501ffbd78a459",
            "value": 48
          }
        },
        "a2dc1a458e204796a354a86cdb68d8d0": {
          "model_module": "@jupyter-widgets/controls",
          "model_name": "HTMLModel",
          "model_module_version": "1.5.0",
          "state": {
            "_dom_classes": [],
            "_model_module": "@jupyter-widgets/controls",
            "_model_module_version": "1.5.0",
            "_model_name": "HTMLModel",
            "_view_count": null,
            "_view_module": "@jupyter-widgets/controls",
            "_view_module_version": "1.5.0",
            "_view_name": "HTMLView",
            "description": "",
            "description_tooltip": null,
            "layout": "IPY_MODEL_13b043ee29554606ae3f7a5379765290",
            "placeholder": "​",
            "style": "IPY_MODEL_275c99c6d7974e06bdbc206dcb2dc35b",
            "value": " 48.0/48.0 [00:00&lt;00:00, 2.94kB/s]"
          }
        },
        "5132f147bd6f487e951648d225f69f43": {
          "model_module": "@jupyter-widgets/base",
          "model_name": "LayoutModel",
          "model_module_version": "1.2.0",
          "state": {
            "_model_module": "@jupyter-widgets/base",
            "_model_module_version": "1.2.0",
            "_model_name": "LayoutModel",
            "_view_count": null,
            "_view_module": "@jupyter-widgets/base",
            "_view_module_version": "1.2.0",
            "_view_name": "LayoutView",
            "align_content": null,
            "align_items": null,
            "align_self": null,
            "border": null,
            "bottom": null,
            "display": null,
            "flex": null,
            "flex_flow": null,
            "grid_area": null,
            "grid_auto_columns": null,
            "grid_auto_flow": null,
            "grid_auto_rows": null,
            "grid_column": null,
            "grid_gap": null,
            "grid_row": null,
            "grid_template_areas": null,
            "grid_template_columns": null,
            "grid_template_rows": null,
            "height": null,
            "justify_content": null,
            "justify_items": null,
            "left": null,
            "margin": null,
            "max_height": null,
            "max_width": null,
            "min_height": null,
            "min_width": null,
            "object_fit": null,
            "object_position": null,
            "order": null,
            "overflow": null,
            "overflow_x": null,
            "overflow_y": null,
            "padding": null,
            "right": null,
            "top": null,
            "visibility": null,
            "width": null
          }
        },
        "055e5ae934a146d1b509d3aa344c2b48": {
          "model_module": "@jupyter-widgets/base",
          "model_name": "LayoutModel",
          "model_module_version": "1.2.0",
          "state": {
            "_model_module": "@jupyter-widgets/base",
            "_model_module_version": "1.2.0",
            "_model_name": "LayoutModel",
            "_view_count": null,
            "_view_module": "@jupyter-widgets/base",
            "_view_module_version": "1.2.0",
            "_view_name": "LayoutView",
            "align_content": null,
            "align_items": null,
            "align_self": null,
            "border": null,
            "bottom": null,
            "display": null,
            "flex": null,
            "flex_flow": null,
            "grid_area": null,
            "grid_auto_columns": null,
            "grid_auto_flow": null,
            "grid_auto_rows": null,
            "grid_column": null,
            "grid_gap": null,
            "grid_row": null,
            "grid_template_areas": null,
            "grid_template_columns": null,
            "grid_template_rows": null,
            "height": null,
            "justify_content": null,
            "justify_items": null,
            "left": null,
            "margin": null,
            "max_height": null,
            "max_width": null,
            "min_height": null,
            "min_width": null,
            "object_fit": null,
            "object_position": null,
            "order": null,
            "overflow": null,
            "overflow_x": null,
            "overflow_y": null,
            "padding": null,
            "right": null,
            "top": null,
            "visibility": null,
            "width": null
          }
        },
        "98db3429e28a4840b4a670197d5706a2": {
          "model_module": "@jupyter-widgets/controls",
          "model_name": "DescriptionStyleModel",
          "model_module_version": "1.5.0",
          "state": {
            "_model_module": "@jupyter-widgets/controls",
            "_model_module_version": "1.5.0",
            "_model_name": "DescriptionStyleModel",
            "_view_count": null,
            "_view_module": "@jupyter-widgets/base",
            "_view_module_version": "1.2.0",
            "_view_name": "StyleView",
            "description_width": ""
          }
        },
        "5fe49d6e5b444588a19db6f1d767a9ef": {
          "model_module": "@jupyter-widgets/base",
          "model_name": "LayoutModel",
          "model_module_version": "1.2.0",
          "state": {
            "_model_module": "@jupyter-widgets/base",
            "_model_module_version": "1.2.0",
            "_model_name": "LayoutModel",
            "_view_count": null,
            "_view_module": "@jupyter-widgets/base",
            "_view_module_version": "1.2.0",
            "_view_name": "LayoutView",
            "align_content": null,
            "align_items": null,
            "align_self": null,
            "border": null,
            "bottom": null,
            "display": null,
            "flex": null,
            "flex_flow": null,
            "grid_area": null,
            "grid_auto_columns": null,
            "grid_auto_flow": null,
            "grid_auto_rows": null,
            "grid_column": null,
            "grid_gap": null,
            "grid_row": null,
            "grid_template_areas": null,
            "grid_template_columns": null,
            "grid_template_rows": null,
            "height": null,
            "justify_content": null,
            "justify_items": null,
            "left": null,
            "margin": null,
            "max_height": null,
            "max_width": null,
            "min_height": null,
            "min_width": null,
            "object_fit": null,
            "object_position": null,
            "order": null,
            "overflow": null,
            "overflow_x": null,
            "overflow_y": null,
            "padding": null,
            "right": null,
            "top": null,
            "visibility": null,
            "width": null
          }
        },
        "62cf4d3efb8748ba90f501ffbd78a459": {
          "model_module": "@jupyter-widgets/controls",
          "model_name": "ProgressStyleModel",
          "model_module_version": "1.5.0",
          "state": {
            "_model_module": "@jupyter-widgets/controls",
            "_model_module_version": "1.5.0",
            "_model_name": "ProgressStyleModel",
            "_view_count": null,
            "_view_module": "@jupyter-widgets/base",
            "_view_module_version": "1.2.0",
            "_view_name": "StyleView",
            "bar_color": null,
            "description_width": ""
          }
        },
        "13b043ee29554606ae3f7a5379765290": {
          "model_module": "@jupyter-widgets/base",
          "model_name": "LayoutModel",
          "model_module_version": "1.2.0",
          "state": {
            "_model_module": "@jupyter-widgets/base",
            "_model_module_version": "1.2.0",
            "_model_name": "LayoutModel",
            "_view_count": null,
            "_view_module": "@jupyter-widgets/base",
            "_view_module_version": "1.2.0",
            "_view_name": "LayoutView",
            "align_content": null,
            "align_items": null,
            "align_self": null,
            "border": null,
            "bottom": null,
            "display": null,
            "flex": null,
            "flex_flow": null,
            "grid_area": null,
            "grid_auto_columns": null,
            "grid_auto_flow": null,
            "grid_auto_rows": null,
            "grid_column": null,
            "grid_gap": null,
            "grid_row": null,
            "grid_template_areas": null,
            "grid_template_columns": null,
            "grid_template_rows": null,
            "height": null,
            "justify_content": null,
            "justify_items": null,
            "left": null,
            "margin": null,
            "max_height": null,
            "max_width": null,
            "min_height": null,
            "min_width": null,
            "object_fit": null,
            "object_position": null,
            "order": null,
            "overflow": null,
            "overflow_x": null,
            "overflow_y": null,
            "padding": null,
            "right": null,
            "top": null,
            "visibility": null,
            "width": null
          }
        },
        "275c99c6d7974e06bdbc206dcb2dc35b": {
          "model_module": "@jupyter-widgets/controls",
          "model_name": "DescriptionStyleModel",
          "model_module_version": "1.5.0",
          "state": {
            "_model_module": "@jupyter-widgets/controls",
            "_model_module_version": "1.5.0",
            "_model_name": "DescriptionStyleModel",
            "_view_count": null,
            "_view_module": "@jupyter-widgets/base",
            "_view_module_version": "1.2.0",
            "_view_name": "StyleView",
            "description_width": ""
          }
        },
        "bbdbc767f31541418184671cb2827d39": {
          "model_module": "@jupyter-widgets/controls",
          "model_name": "HBoxModel",
          "model_module_version": "1.5.0",
          "state": {
            "_dom_classes": [],
            "_model_module": "@jupyter-widgets/controls",
            "_model_module_version": "1.5.0",
            "_model_name": "HBoxModel",
            "_view_count": null,
            "_view_module": "@jupyter-widgets/controls",
            "_view_module_version": "1.5.0",
            "_view_name": "HBoxView",
            "box_style": "",
            "children": [
              "IPY_MODEL_9fb2e9aa8d1b4a07919494dbb66898ad",
              "IPY_MODEL_0a350df8a37a4c8abd04609602203148",
              "IPY_MODEL_e64c320583b74e12a52fcf820147252d"
            ],
            "layout": "IPY_MODEL_3f576f2ccc824b40807470622134edd4"
          }
        },
        "9fb2e9aa8d1b4a07919494dbb66898ad": {
          "model_module": "@jupyter-widgets/controls",
          "model_name": "HTMLModel",
          "model_module_version": "1.5.0",
          "state": {
            "_dom_classes": [],
            "_model_module": "@jupyter-widgets/controls",
            "_model_module_version": "1.5.0",
            "_model_name": "HTMLModel",
            "_view_count": null,
            "_view_module": "@jupyter-widgets/controls",
            "_view_module_version": "1.5.0",
            "_view_name": "HTMLView",
            "description": "",
            "description_tooltip": null,
            "layout": "IPY_MODEL_aadec457bf8647c6899c6e5b6790f2cf",
            "placeholder": "​",
            "style": "IPY_MODEL_7d9c797183fc462e8592e600e092e743",
            "value": "vocab.txt: 100%"
          }
        },
        "0a350df8a37a4c8abd04609602203148": {
          "model_module": "@jupyter-widgets/controls",
          "model_name": "FloatProgressModel",
          "model_module_version": "1.5.0",
          "state": {
            "_dom_classes": [],
            "_model_module": "@jupyter-widgets/controls",
            "_model_module_version": "1.5.0",
            "_model_name": "FloatProgressModel",
            "_view_count": null,
            "_view_module": "@jupyter-widgets/controls",
            "_view_module_version": "1.5.0",
            "_view_name": "ProgressView",
            "bar_style": "success",
            "description": "",
            "description_tooltip": null,
            "layout": "IPY_MODEL_8d977b0016cd4b1aaf4503663be9bb2b",
            "max": 231508,
            "min": 0,
            "orientation": "horizontal",
            "style": "IPY_MODEL_67734e3a949240c0bd4931ebac003fd8",
            "value": 231508
          }
        },
        "e64c320583b74e12a52fcf820147252d": {
          "model_module": "@jupyter-widgets/controls",
          "model_name": "HTMLModel",
          "model_module_version": "1.5.0",
          "state": {
            "_dom_classes": [],
            "_model_module": "@jupyter-widgets/controls",
            "_model_module_version": "1.5.0",
            "_model_name": "HTMLModel",
            "_view_count": null,
            "_view_module": "@jupyter-widgets/controls",
            "_view_module_version": "1.5.0",
            "_view_name": "HTMLView",
            "description": "",
            "description_tooltip": null,
            "layout": "IPY_MODEL_6ebdff39cfed4586935e2853f27120f3",
            "placeholder": "​",
            "style": "IPY_MODEL_0575905745cb4c84b7426e27e5c4ed48",
            "value": " 232k/232k [00:00&lt;00:00, 3.37MB/s]"
          }
        },
        "3f576f2ccc824b40807470622134edd4": {
          "model_module": "@jupyter-widgets/base",
          "model_name": "LayoutModel",
          "model_module_version": "1.2.0",
          "state": {
            "_model_module": "@jupyter-widgets/base",
            "_model_module_version": "1.2.0",
            "_model_name": "LayoutModel",
            "_view_count": null,
            "_view_module": "@jupyter-widgets/base",
            "_view_module_version": "1.2.0",
            "_view_name": "LayoutView",
            "align_content": null,
            "align_items": null,
            "align_self": null,
            "border": null,
            "bottom": null,
            "display": null,
            "flex": null,
            "flex_flow": null,
            "grid_area": null,
            "grid_auto_columns": null,
            "grid_auto_flow": null,
            "grid_auto_rows": null,
            "grid_column": null,
            "grid_gap": null,
            "grid_row": null,
            "grid_template_areas": null,
            "grid_template_columns": null,
            "grid_template_rows": null,
            "height": null,
            "justify_content": null,
            "justify_items": null,
            "left": null,
            "margin": null,
            "max_height": null,
            "max_width": null,
            "min_height": null,
            "min_width": null,
            "object_fit": null,
            "object_position": null,
            "order": null,
            "overflow": null,
            "overflow_x": null,
            "overflow_y": null,
            "padding": null,
            "right": null,
            "top": null,
            "visibility": null,
            "width": null
          }
        },
        "aadec457bf8647c6899c6e5b6790f2cf": {
          "model_module": "@jupyter-widgets/base",
          "model_name": "LayoutModel",
          "model_module_version": "1.2.0",
          "state": {
            "_model_module": "@jupyter-widgets/base",
            "_model_module_version": "1.2.0",
            "_model_name": "LayoutModel",
            "_view_count": null,
            "_view_module": "@jupyter-widgets/base",
            "_view_module_version": "1.2.0",
            "_view_name": "LayoutView",
            "align_content": null,
            "align_items": null,
            "align_self": null,
            "border": null,
            "bottom": null,
            "display": null,
            "flex": null,
            "flex_flow": null,
            "grid_area": null,
            "grid_auto_columns": null,
            "grid_auto_flow": null,
            "grid_auto_rows": null,
            "grid_column": null,
            "grid_gap": null,
            "grid_row": null,
            "grid_template_areas": null,
            "grid_template_columns": null,
            "grid_template_rows": null,
            "height": null,
            "justify_content": null,
            "justify_items": null,
            "left": null,
            "margin": null,
            "max_height": null,
            "max_width": null,
            "min_height": null,
            "min_width": null,
            "object_fit": null,
            "object_position": null,
            "order": null,
            "overflow": null,
            "overflow_x": null,
            "overflow_y": null,
            "padding": null,
            "right": null,
            "top": null,
            "visibility": null,
            "width": null
          }
        },
        "7d9c797183fc462e8592e600e092e743": {
          "model_module": "@jupyter-widgets/controls",
          "model_name": "DescriptionStyleModel",
          "model_module_version": "1.5.0",
          "state": {
            "_model_module": "@jupyter-widgets/controls",
            "_model_module_version": "1.5.0",
            "_model_name": "DescriptionStyleModel",
            "_view_count": null,
            "_view_module": "@jupyter-widgets/base",
            "_view_module_version": "1.2.0",
            "_view_name": "StyleView",
            "description_width": ""
          }
        },
        "8d977b0016cd4b1aaf4503663be9bb2b": {
          "model_module": "@jupyter-widgets/base",
          "model_name": "LayoutModel",
          "model_module_version": "1.2.0",
          "state": {
            "_model_module": "@jupyter-widgets/base",
            "_model_module_version": "1.2.0",
            "_model_name": "LayoutModel",
            "_view_count": null,
            "_view_module": "@jupyter-widgets/base",
            "_view_module_version": "1.2.0",
            "_view_name": "LayoutView",
            "align_content": null,
            "align_items": null,
            "align_self": null,
            "border": null,
            "bottom": null,
            "display": null,
            "flex": null,
            "flex_flow": null,
            "grid_area": null,
            "grid_auto_columns": null,
            "grid_auto_flow": null,
            "grid_auto_rows": null,
            "grid_column": null,
            "grid_gap": null,
            "grid_row": null,
            "grid_template_areas": null,
            "grid_template_columns": null,
            "grid_template_rows": null,
            "height": null,
            "justify_content": null,
            "justify_items": null,
            "left": null,
            "margin": null,
            "max_height": null,
            "max_width": null,
            "min_height": null,
            "min_width": null,
            "object_fit": null,
            "object_position": null,
            "order": null,
            "overflow": null,
            "overflow_x": null,
            "overflow_y": null,
            "padding": null,
            "right": null,
            "top": null,
            "visibility": null,
            "width": null
          }
        },
        "67734e3a949240c0bd4931ebac003fd8": {
          "model_module": "@jupyter-widgets/controls",
          "model_name": "ProgressStyleModel",
          "model_module_version": "1.5.0",
          "state": {
            "_model_module": "@jupyter-widgets/controls",
            "_model_module_version": "1.5.0",
            "_model_name": "ProgressStyleModel",
            "_view_count": null,
            "_view_module": "@jupyter-widgets/base",
            "_view_module_version": "1.2.0",
            "_view_name": "StyleView",
            "bar_color": null,
            "description_width": ""
          }
        },
        "6ebdff39cfed4586935e2853f27120f3": {
          "model_module": "@jupyter-widgets/base",
          "model_name": "LayoutModel",
          "model_module_version": "1.2.0",
          "state": {
            "_model_module": "@jupyter-widgets/base",
            "_model_module_version": "1.2.0",
            "_model_name": "LayoutModel",
            "_view_count": null,
            "_view_module": "@jupyter-widgets/base",
            "_view_module_version": "1.2.0",
            "_view_name": "LayoutView",
            "align_content": null,
            "align_items": null,
            "align_self": null,
            "border": null,
            "bottom": null,
            "display": null,
            "flex": null,
            "flex_flow": null,
            "grid_area": null,
            "grid_auto_columns": null,
            "grid_auto_flow": null,
            "grid_auto_rows": null,
            "grid_column": null,
            "grid_gap": null,
            "grid_row": null,
            "grid_template_areas": null,
            "grid_template_columns": null,
            "grid_template_rows": null,
            "height": null,
            "justify_content": null,
            "justify_items": null,
            "left": null,
            "margin": null,
            "max_height": null,
            "max_width": null,
            "min_height": null,
            "min_width": null,
            "object_fit": null,
            "object_position": null,
            "order": null,
            "overflow": null,
            "overflow_x": null,
            "overflow_y": null,
            "padding": null,
            "right": null,
            "top": null,
            "visibility": null,
            "width": null
          }
        },
        "0575905745cb4c84b7426e27e5c4ed48": {
          "model_module": "@jupyter-widgets/controls",
          "model_name": "DescriptionStyleModel",
          "model_module_version": "1.5.0",
          "state": {
            "_model_module": "@jupyter-widgets/controls",
            "_model_module_version": "1.5.0",
            "_model_name": "DescriptionStyleModel",
            "_view_count": null,
            "_view_module": "@jupyter-widgets/base",
            "_view_module_version": "1.2.0",
            "_view_name": "StyleView",
            "description_width": ""
          }
        },
        "31d23271ea2c4d67acaf311936bb4e51": {
          "model_module": "@jupyter-widgets/controls",
          "model_name": "HBoxModel",
          "model_module_version": "1.5.0",
          "state": {
            "_dom_classes": [],
            "_model_module": "@jupyter-widgets/controls",
            "_model_module_version": "1.5.0",
            "_model_name": "HBoxModel",
            "_view_count": null,
            "_view_module": "@jupyter-widgets/controls",
            "_view_module_version": "1.5.0",
            "_view_name": "HBoxView",
            "box_style": "",
            "children": [
              "IPY_MODEL_0304cc2c977a480494856e0a42262b10",
              "IPY_MODEL_c0a2f7c7a83a4d479b3f4606975a3ca7",
              "IPY_MODEL_2fd71d2974634af29e9b83b6be8cd7d2"
            ],
            "layout": "IPY_MODEL_4e3b4bc82fc446ce86754115c68b5d88"
          }
        },
        "0304cc2c977a480494856e0a42262b10": {
          "model_module": "@jupyter-widgets/controls",
          "model_name": "HTMLModel",
          "model_module_version": "1.5.0",
          "state": {
            "_dom_classes": [],
            "_model_module": "@jupyter-widgets/controls",
            "_model_module_version": "1.5.0",
            "_model_name": "HTMLModel",
            "_view_count": null,
            "_view_module": "@jupyter-widgets/controls",
            "_view_module_version": "1.5.0",
            "_view_name": "HTMLView",
            "description": "",
            "description_tooltip": null,
            "layout": "IPY_MODEL_6f573e2848534dc292e92ddfa78b0fa7",
            "placeholder": "​",
            "style": "IPY_MODEL_14e4db3d7e2e442caa676fac13fcf3ac",
            "value": "tokenizer.json: 100%"
          }
        },
        "c0a2f7c7a83a4d479b3f4606975a3ca7": {
          "model_module": "@jupyter-widgets/controls",
          "model_name": "FloatProgressModel",
          "model_module_version": "1.5.0",
          "state": {
            "_dom_classes": [],
            "_model_module": "@jupyter-widgets/controls",
            "_model_module_version": "1.5.0",
            "_model_name": "FloatProgressModel",
            "_view_count": null,
            "_view_module": "@jupyter-widgets/controls",
            "_view_module_version": "1.5.0",
            "_view_name": "ProgressView",
            "bar_style": "success",
            "description": "",
            "description_tooltip": null,
            "layout": "IPY_MODEL_1f3798fa67e54472b4b3da973f8a2fca",
            "max": 466062,
            "min": 0,
            "orientation": "horizontal",
            "style": "IPY_MODEL_8d9a2b473a42423ab3009c8af79a53fa",
            "value": 466062
          }
        },
        "2fd71d2974634af29e9b83b6be8cd7d2": {
          "model_module": "@jupyter-widgets/controls",
          "model_name": "HTMLModel",
          "model_module_version": "1.5.0",
          "state": {
            "_dom_classes": [],
            "_model_module": "@jupyter-widgets/controls",
            "_model_module_version": "1.5.0",
            "_model_name": "HTMLModel",
            "_view_count": null,
            "_view_module": "@jupyter-widgets/controls",
            "_view_module_version": "1.5.0",
            "_view_name": "HTMLView",
            "description": "",
            "description_tooltip": null,
            "layout": "IPY_MODEL_e0fbd62ca88d44c7b3cdba94260159db",
            "placeholder": "​",
            "style": "IPY_MODEL_921fa0efb8b8482e8a379f43bbb794d5",
            "value": " 466k/466k [00:00&lt;00:00, 3.48MB/s]"
          }
        },
        "4e3b4bc82fc446ce86754115c68b5d88": {
          "model_module": "@jupyter-widgets/base",
          "model_name": "LayoutModel",
          "model_module_version": "1.2.0",
          "state": {
            "_model_module": "@jupyter-widgets/base",
            "_model_module_version": "1.2.0",
            "_model_name": "LayoutModel",
            "_view_count": null,
            "_view_module": "@jupyter-widgets/base",
            "_view_module_version": "1.2.0",
            "_view_name": "LayoutView",
            "align_content": null,
            "align_items": null,
            "align_self": null,
            "border": null,
            "bottom": null,
            "display": null,
            "flex": null,
            "flex_flow": null,
            "grid_area": null,
            "grid_auto_columns": null,
            "grid_auto_flow": null,
            "grid_auto_rows": null,
            "grid_column": null,
            "grid_gap": null,
            "grid_row": null,
            "grid_template_areas": null,
            "grid_template_columns": null,
            "grid_template_rows": null,
            "height": null,
            "justify_content": null,
            "justify_items": null,
            "left": null,
            "margin": null,
            "max_height": null,
            "max_width": null,
            "min_height": null,
            "min_width": null,
            "object_fit": null,
            "object_position": null,
            "order": null,
            "overflow": null,
            "overflow_x": null,
            "overflow_y": null,
            "padding": null,
            "right": null,
            "top": null,
            "visibility": null,
            "width": null
          }
        },
        "6f573e2848534dc292e92ddfa78b0fa7": {
          "model_module": "@jupyter-widgets/base",
          "model_name": "LayoutModel",
          "model_module_version": "1.2.0",
          "state": {
            "_model_module": "@jupyter-widgets/base",
            "_model_module_version": "1.2.0",
            "_model_name": "LayoutModel",
            "_view_count": null,
            "_view_module": "@jupyter-widgets/base",
            "_view_module_version": "1.2.0",
            "_view_name": "LayoutView",
            "align_content": null,
            "align_items": null,
            "align_self": null,
            "border": null,
            "bottom": null,
            "display": null,
            "flex": null,
            "flex_flow": null,
            "grid_area": null,
            "grid_auto_columns": null,
            "grid_auto_flow": null,
            "grid_auto_rows": null,
            "grid_column": null,
            "grid_gap": null,
            "grid_row": null,
            "grid_template_areas": null,
            "grid_template_columns": null,
            "grid_template_rows": null,
            "height": null,
            "justify_content": null,
            "justify_items": null,
            "left": null,
            "margin": null,
            "max_height": null,
            "max_width": null,
            "min_height": null,
            "min_width": null,
            "object_fit": null,
            "object_position": null,
            "order": null,
            "overflow": null,
            "overflow_x": null,
            "overflow_y": null,
            "padding": null,
            "right": null,
            "top": null,
            "visibility": null,
            "width": null
          }
        },
        "14e4db3d7e2e442caa676fac13fcf3ac": {
          "model_module": "@jupyter-widgets/controls",
          "model_name": "DescriptionStyleModel",
          "model_module_version": "1.5.0",
          "state": {
            "_model_module": "@jupyter-widgets/controls",
            "_model_module_version": "1.5.0",
            "_model_name": "DescriptionStyleModel",
            "_view_count": null,
            "_view_module": "@jupyter-widgets/base",
            "_view_module_version": "1.2.0",
            "_view_name": "StyleView",
            "description_width": ""
          }
        },
        "1f3798fa67e54472b4b3da973f8a2fca": {
          "model_module": "@jupyter-widgets/base",
          "model_name": "LayoutModel",
          "model_module_version": "1.2.0",
          "state": {
            "_model_module": "@jupyter-widgets/base",
            "_model_module_version": "1.2.0",
            "_model_name": "LayoutModel",
            "_view_count": null,
            "_view_module": "@jupyter-widgets/base",
            "_view_module_version": "1.2.0",
            "_view_name": "LayoutView",
            "align_content": null,
            "align_items": null,
            "align_self": null,
            "border": null,
            "bottom": null,
            "display": null,
            "flex": null,
            "flex_flow": null,
            "grid_area": null,
            "grid_auto_columns": null,
            "grid_auto_flow": null,
            "grid_auto_rows": null,
            "grid_column": null,
            "grid_gap": null,
            "grid_row": null,
            "grid_template_areas": null,
            "grid_template_columns": null,
            "grid_template_rows": null,
            "height": null,
            "justify_content": null,
            "justify_items": null,
            "left": null,
            "margin": null,
            "max_height": null,
            "max_width": null,
            "min_height": null,
            "min_width": null,
            "object_fit": null,
            "object_position": null,
            "order": null,
            "overflow": null,
            "overflow_x": null,
            "overflow_y": null,
            "padding": null,
            "right": null,
            "top": null,
            "visibility": null,
            "width": null
          }
        },
        "8d9a2b473a42423ab3009c8af79a53fa": {
          "model_module": "@jupyter-widgets/controls",
          "model_name": "ProgressStyleModel",
          "model_module_version": "1.5.0",
          "state": {
            "_model_module": "@jupyter-widgets/controls",
            "_model_module_version": "1.5.0",
            "_model_name": "ProgressStyleModel",
            "_view_count": null,
            "_view_module": "@jupyter-widgets/base",
            "_view_module_version": "1.2.0",
            "_view_name": "StyleView",
            "bar_color": null,
            "description_width": ""
          }
        },
        "e0fbd62ca88d44c7b3cdba94260159db": {
          "model_module": "@jupyter-widgets/base",
          "model_name": "LayoutModel",
          "model_module_version": "1.2.0",
          "state": {
            "_model_module": "@jupyter-widgets/base",
            "_model_module_version": "1.2.0",
            "_model_name": "LayoutModel",
            "_view_count": null,
            "_view_module": "@jupyter-widgets/base",
            "_view_module_version": "1.2.0",
            "_view_name": "LayoutView",
            "align_content": null,
            "align_items": null,
            "align_self": null,
            "border": null,
            "bottom": null,
            "display": null,
            "flex": null,
            "flex_flow": null,
            "grid_area": null,
            "grid_auto_columns": null,
            "grid_auto_flow": null,
            "grid_auto_rows": null,
            "grid_column": null,
            "grid_gap": null,
            "grid_row": null,
            "grid_template_areas": null,
            "grid_template_columns": null,
            "grid_template_rows": null,
            "height": null,
            "justify_content": null,
            "justify_items": null,
            "left": null,
            "margin": null,
            "max_height": null,
            "max_width": null,
            "min_height": null,
            "min_width": null,
            "object_fit": null,
            "object_position": null,
            "order": null,
            "overflow": null,
            "overflow_x": null,
            "overflow_y": null,
            "padding": null,
            "right": null,
            "top": null,
            "visibility": null,
            "width": null
          }
        },
        "921fa0efb8b8482e8a379f43bbb794d5": {
          "model_module": "@jupyter-widgets/controls",
          "model_name": "DescriptionStyleModel",
          "model_module_version": "1.5.0",
          "state": {
            "_model_module": "@jupyter-widgets/controls",
            "_model_module_version": "1.5.0",
            "_model_name": "DescriptionStyleModel",
            "_view_count": null,
            "_view_module": "@jupyter-widgets/base",
            "_view_module_version": "1.2.0",
            "_view_name": "StyleView",
            "description_width": ""
          }
        },
        "c1a57a972ab441b9810d6b06de54f200": {
          "model_module": "@jupyter-widgets/controls",
          "model_name": "HBoxModel",
          "model_module_version": "1.5.0",
          "state": {
            "_dom_classes": [],
            "_model_module": "@jupyter-widgets/controls",
            "_model_module_version": "1.5.0",
            "_model_name": "HBoxModel",
            "_view_count": null,
            "_view_module": "@jupyter-widgets/controls",
            "_view_module_version": "1.5.0",
            "_view_name": "HBoxView",
            "box_style": "",
            "children": [
              "IPY_MODEL_ead1c774431841eea3d31f40dd329ec2",
              "IPY_MODEL_38e9d5963d5c43058229ddcaa7619dc0",
              "IPY_MODEL_94d1a0ecfe46412bbc41b4a35a056afa"
            ],
            "layout": "IPY_MODEL_c22383a48eac4973ac1e86046e355214"
          }
        },
        "ead1c774431841eea3d31f40dd329ec2": {
          "model_module": "@jupyter-widgets/controls",
          "model_name": "HTMLModel",
          "model_module_version": "1.5.0",
          "state": {
            "_dom_classes": [],
            "_model_module": "@jupyter-widgets/controls",
            "_model_module_version": "1.5.0",
            "_model_name": "HTMLModel",
            "_view_count": null,
            "_view_module": "@jupyter-widgets/controls",
            "_view_module_version": "1.5.0",
            "_view_name": "HTMLView",
            "description": "",
            "description_tooltip": null,
            "layout": "IPY_MODEL_fc823ac83b1c4ce3a45a833512d8e6cf",
            "placeholder": "​",
            "style": "IPY_MODEL_23705a55f52c4948bd0f4f8f7254b353",
            "value": "config.json: 100%"
          }
        },
        "38e9d5963d5c43058229ddcaa7619dc0": {
          "model_module": "@jupyter-widgets/controls",
          "model_name": "FloatProgressModel",
          "model_module_version": "1.5.0",
          "state": {
            "_dom_classes": [],
            "_model_module": "@jupyter-widgets/controls",
            "_model_module_version": "1.5.0",
            "_model_name": "FloatProgressModel",
            "_view_count": null,
            "_view_module": "@jupyter-widgets/controls",
            "_view_module_version": "1.5.0",
            "_view_name": "ProgressView",
            "bar_style": "success",
            "description": "",
            "description_tooltip": null,
            "layout": "IPY_MODEL_fd2e587c7c5543f599def69df65c18c6",
            "max": 483,
            "min": 0,
            "orientation": "horizontal",
            "style": "IPY_MODEL_46b533af7b28488d8916c08cfc38093e",
            "value": 483
          }
        },
        "94d1a0ecfe46412bbc41b4a35a056afa": {
          "model_module": "@jupyter-widgets/controls",
          "model_name": "HTMLModel",
          "model_module_version": "1.5.0",
          "state": {
            "_dom_classes": [],
            "_model_module": "@jupyter-widgets/controls",
            "_model_module_version": "1.5.0",
            "_model_name": "HTMLModel",
            "_view_count": null,
            "_view_module": "@jupyter-widgets/controls",
            "_view_module_version": "1.5.0",
            "_view_name": "HTMLView",
            "description": "",
            "description_tooltip": null,
            "layout": "IPY_MODEL_61708a9f6ca54295a2eb440d3828c867",
            "placeholder": "​",
            "style": "IPY_MODEL_09751f5a96f8477abf246d3176d2af86",
            "value": " 483/483 [00:00&lt;00:00, 24.7kB/s]"
          }
        },
        "c22383a48eac4973ac1e86046e355214": {
          "model_module": "@jupyter-widgets/base",
          "model_name": "LayoutModel",
          "model_module_version": "1.2.0",
          "state": {
            "_model_module": "@jupyter-widgets/base",
            "_model_module_version": "1.2.0",
            "_model_name": "LayoutModel",
            "_view_count": null,
            "_view_module": "@jupyter-widgets/base",
            "_view_module_version": "1.2.0",
            "_view_name": "LayoutView",
            "align_content": null,
            "align_items": null,
            "align_self": null,
            "border": null,
            "bottom": null,
            "display": null,
            "flex": null,
            "flex_flow": null,
            "grid_area": null,
            "grid_auto_columns": null,
            "grid_auto_flow": null,
            "grid_auto_rows": null,
            "grid_column": null,
            "grid_gap": null,
            "grid_row": null,
            "grid_template_areas": null,
            "grid_template_columns": null,
            "grid_template_rows": null,
            "height": null,
            "justify_content": null,
            "justify_items": null,
            "left": null,
            "margin": null,
            "max_height": null,
            "max_width": null,
            "min_height": null,
            "min_width": null,
            "object_fit": null,
            "object_position": null,
            "order": null,
            "overflow": null,
            "overflow_x": null,
            "overflow_y": null,
            "padding": null,
            "right": null,
            "top": null,
            "visibility": null,
            "width": null
          }
        },
        "fc823ac83b1c4ce3a45a833512d8e6cf": {
          "model_module": "@jupyter-widgets/base",
          "model_name": "LayoutModel",
          "model_module_version": "1.2.0",
          "state": {
            "_model_module": "@jupyter-widgets/base",
            "_model_module_version": "1.2.0",
            "_model_name": "LayoutModel",
            "_view_count": null,
            "_view_module": "@jupyter-widgets/base",
            "_view_module_version": "1.2.0",
            "_view_name": "LayoutView",
            "align_content": null,
            "align_items": null,
            "align_self": null,
            "border": null,
            "bottom": null,
            "display": null,
            "flex": null,
            "flex_flow": null,
            "grid_area": null,
            "grid_auto_columns": null,
            "grid_auto_flow": null,
            "grid_auto_rows": null,
            "grid_column": null,
            "grid_gap": null,
            "grid_row": null,
            "grid_template_areas": null,
            "grid_template_columns": null,
            "grid_template_rows": null,
            "height": null,
            "justify_content": null,
            "justify_items": null,
            "left": null,
            "margin": null,
            "max_height": null,
            "max_width": null,
            "min_height": null,
            "min_width": null,
            "object_fit": null,
            "object_position": null,
            "order": null,
            "overflow": null,
            "overflow_x": null,
            "overflow_y": null,
            "padding": null,
            "right": null,
            "top": null,
            "visibility": null,
            "width": null
          }
        },
        "23705a55f52c4948bd0f4f8f7254b353": {
          "model_module": "@jupyter-widgets/controls",
          "model_name": "DescriptionStyleModel",
          "model_module_version": "1.5.0",
          "state": {
            "_model_module": "@jupyter-widgets/controls",
            "_model_module_version": "1.5.0",
            "_model_name": "DescriptionStyleModel",
            "_view_count": null,
            "_view_module": "@jupyter-widgets/base",
            "_view_module_version": "1.2.0",
            "_view_name": "StyleView",
            "description_width": ""
          }
        },
        "fd2e587c7c5543f599def69df65c18c6": {
          "model_module": "@jupyter-widgets/base",
          "model_name": "LayoutModel",
          "model_module_version": "1.2.0",
          "state": {
            "_model_module": "@jupyter-widgets/base",
            "_model_module_version": "1.2.0",
            "_model_name": "LayoutModel",
            "_view_count": null,
            "_view_module": "@jupyter-widgets/base",
            "_view_module_version": "1.2.0",
            "_view_name": "LayoutView",
            "align_content": null,
            "align_items": null,
            "align_self": null,
            "border": null,
            "bottom": null,
            "display": null,
            "flex": null,
            "flex_flow": null,
            "grid_area": null,
            "grid_auto_columns": null,
            "grid_auto_flow": null,
            "grid_auto_rows": null,
            "grid_column": null,
            "grid_gap": null,
            "grid_row": null,
            "grid_template_areas": null,
            "grid_template_columns": null,
            "grid_template_rows": null,
            "height": null,
            "justify_content": null,
            "justify_items": null,
            "left": null,
            "margin": null,
            "max_height": null,
            "max_width": null,
            "min_height": null,
            "min_width": null,
            "object_fit": null,
            "object_position": null,
            "order": null,
            "overflow": null,
            "overflow_x": null,
            "overflow_y": null,
            "padding": null,
            "right": null,
            "top": null,
            "visibility": null,
            "width": null
          }
        },
        "46b533af7b28488d8916c08cfc38093e": {
          "model_module": "@jupyter-widgets/controls",
          "model_name": "ProgressStyleModel",
          "model_module_version": "1.5.0",
          "state": {
            "_model_module": "@jupyter-widgets/controls",
            "_model_module_version": "1.5.0",
            "_model_name": "ProgressStyleModel",
            "_view_count": null,
            "_view_module": "@jupyter-widgets/base",
            "_view_module_version": "1.2.0",
            "_view_name": "StyleView",
            "bar_color": null,
            "description_width": ""
          }
        },
        "61708a9f6ca54295a2eb440d3828c867": {
          "model_module": "@jupyter-widgets/base",
          "model_name": "LayoutModel",
          "model_module_version": "1.2.0",
          "state": {
            "_model_module": "@jupyter-widgets/base",
            "_model_module_version": "1.2.0",
            "_model_name": "LayoutModel",
            "_view_count": null,
            "_view_module": "@jupyter-widgets/base",
            "_view_module_version": "1.2.0",
            "_view_name": "LayoutView",
            "align_content": null,
            "align_items": null,
            "align_self": null,
            "border": null,
            "bottom": null,
            "display": null,
            "flex": null,
            "flex_flow": null,
            "grid_area": null,
            "grid_auto_columns": null,
            "grid_auto_flow": null,
            "grid_auto_rows": null,
            "grid_column": null,
            "grid_gap": null,
            "grid_row": null,
            "grid_template_areas": null,
            "grid_template_columns": null,
            "grid_template_rows": null,
            "height": null,
            "justify_content": null,
            "justify_items": null,
            "left": null,
            "margin": null,
            "max_height": null,
            "max_width": null,
            "min_height": null,
            "min_width": null,
            "object_fit": null,
            "object_position": null,
            "order": null,
            "overflow": null,
            "overflow_x": null,
            "overflow_y": null,
            "padding": null,
            "right": null,
            "top": null,
            "visibility": null,
            "width": null
          }
        },
        "09751f5a96f8477abf246d3176d2af86": {
          "model_module": "@jupyter-widgets/controls",
          "model_name": "DescriptionStyleModel",
          "model_module_version": "1.5.0",
          "state": {
            "_model_module": "@jupyter-widgets/controls",
            "_model_module_version": "1.5.0",
            "_model_name": "DescriptionStyleModel",
            "_view_count": null,
            "_view_module": "@jupyter-widgets/base",
            "_view_module_version": "1.2.0",
            "_view_name": "StyleView",
            "description_width": ""
          }
        },
        "588fdedbb4c848da9b31e9a40e2996e8": {
          "model_module": "@jupyter-widgets/controls",
          "model_name": "HBoxModel",
          "model_module_version": "1.5.0",
          "state": {
            "_dom_classes": [],
            "_model_module": "@jupyter-widgets/controls",
            "_model_module_version": "1.5.0",
            "_model_name": "HBoxModel",
            "_view_count": null,
            "_view_module": "@jupyter-widgets/controls",
            "_view_module_version": "1.5.0",
            "_view_name": "HBoxView",
            "box_style": "",
            "children": [
              "IPY_MODEL_201cb6aea32e4695acabd9fb846300c5",
              "IPY_MODEL_e3640c1190394fe78da529f659fb41ff",
              "IPY_MODEL_5a201c1aee714c38857d0d755cb0499c"
            ],
            "layout": "IPY_MODEL_d89bc8dac9b441d28ce9f8d7237d6ea6"
          }
        },
        "201cb6aea32e4695acabd9fb846300c5": {
          "model_module": "@jupyter-widgets/controls",
          "model_name": "HTMLModel",
          "model_module_version": "1.5.0",
          "state": {
            "_dom_classes": [],
            "_model_module": "@jupyter-widgets/controls",
            "_model_module_version": "1.5.0",
            "_model_name": "HTMLModel",
            "_view_count": null,
            "_view_module": "@jupyter-widgets/controls",
            "_view_module_version": "1.5.0",
            "_view_name": "HTMLView",
            "description": "",
            "description_tooltip": null,
            "layout": "IPY_MODEL_d06aa343a539475eb13caf75d5dc8f36",
            "placeholder": "​",
            "style": "IPY_MODEL_6371caeea3b44b22acce33e1bbe555d2",
            "value": "model.safetensors: 100%"
          }
        },
        "e3640c1190394fe78da529f659fb41ff": {
          "model_module": "@jupyter-widgets/controls",
          "model_name": "FloatProgressModel",
          "model_module_version": "1.5.0",
          "state": {
            "_dom_classes": [],
            "_model_module": "@jupyter-widgets/controls",
            "_model_module_version": "1.5.0",
            "_model_name": "FloatProgressModel",
            "_view_count": null,
            "_view_module": "@jupyter-widgets/controls",
            "_view_module_version": "1.5.0",
            "_view_name": "ProgressView",
            "bar_style": "success",
            "description": "",
            "description_tooltip": null,
            "layout": "IPY_MODEL_66c03e1d2bf2463e87be7eb96aadad0b",
            "max": 267954768,
            "min": 0,
            "orientation": "horizontal",
            "style": "IPY_MODEL_d88a5ef0e3ee4560900e499e547950eb",
            "value": 267954768
          }
        },
        "5a201c1aee714c38857d0d755cb0499c": {
          "model_module": "@jupyter-widgets/controls",
          "model_name": "HTMLModel",
          "model_module_version": "1.5.0",
          "state": {
            "_dom_classes": [],
            "_model_module": "@jupyter-widgets/controls",
            "_model_module_version": "1.5.0",
            "_model_name": "HTMLModel",
            "_view_count": null,
            "_view_module": "@jupyter-widgets/controls",
            "_view_module_version": "1.5.0",
            "_view_name": "HTMLView",
            "description": "",
            "description_tooltip": null,
            "layout": "IPY_MODEL_d2081cfc2a98494d88e6190462cc81cb",
            "placeholder": "​",
            "style": "IPY_MODEL_319b78dee2674d94a0d82a9556377d34",
            "value": " 268M/268M [00:03&lt;00:00, 68.6MB/s]"
          }
        },
        "d89bc8dac9b441d28ce9f8d7237d6ea6": {
          "model_module": "@jupyter-widgets/base",
          "model_name": "LayoutModel",
          "model_module_version": "1.2.0",
          "state": {
            "_model_module": "@jupyter-widgets/base",
            "_model_module_version": "1.2.0",
            "_model_name": "LayoutModel",
            "_view_count": null,
            "_view_module": "@jupyter-widgets/base",
            "_view_module_version": "1.2.0",
            "_view_name": "LayoutView",
            "align_content": null,
            "align_items": null,
            "align_self": null,
            "border": null,
            "bottom": null,
            "display": null,
            "flex": null,
            "flex_flow": null,
            "grid_area": null,
            "grid_auto_columns": null,
            "grid_auto_flow": null,
            "grid_auto_rows": null,
            "grid_column": null,
            "grid_gap": null,
            "grid_row": null,
            "grid_template_areas": null,
            "grid_template_columns": null,
            "grid_template_rows": null,
            "height": null,
            "justify_content": null,
            "justify_items": null,
            "left": null,
            "margin": null,
            "max_height": null,
            "max_width": null,
            "min_height": null,
            "min_width": null,
            "object_fit": null,
            "object_position": null,
            "order": null,
            "overflow": null,
            "overflow_x": null,
            "overflow_y": null,
            "padding": null,
            "right": null,
            "top": null,
            "visibility": null,
            "width": null
          }
        },
        "d06aa343a539475eb13caf75d5dc8f36": {
          "model_module": "@jupyter-widgets/base",
          "model_name": "LayoutModel",
          "model_module_version": "1.2.0",
          "state": {
            "_model_module": "@jupyter-widgets/base",
            "_model_module_version": "1.2.0",
            "_model_name": "LayoutModel",
            "_view_count": null,
            "_view_module": "@jupyter-widgets/base",
            "_view_module_version": "1.2.0",
            "_view_name": "LayoutView",
            "align_content": null,
            "align_items": null,
            "align_self": null,
            "border": null,
            "bottom": null,
            "display": null,
            "flex": null,
            "flex_flow": null,
            "grid_area": null,
            "grid_auto_columns": null,
            "grid_auto_flow": null,
            "grid_auto_rows": null,
            "grid_column": null,
            "grid_gap": null,
            "grid_row": null,
            "grid_template_areas": null,
            "grid_template_columns": null,
            "grid_template_rows": null,
            "height": null,
            "justify_content": null,
            "justify_items": null,
            "left": null,
            "margin": null,
            "max_height": null,
            "max_width": null,
            "min_height": null,
            "min_width": null,
            "object_fit": null,
            "object_position": null,
            "order": null,
            "overflow": null,
            "overflow_x": null,
            "overflow_y": null,
            "padding": null,
            "right": null,
            "top": null,
            "visibility": null,
            "width": null
          }
        },
        "6371caeea3b44b22acce33e1bbe555d2": {
          "model_module": "@jupyter-widgets/controls",
          "model_name": "DescriptionStyleModel",
          "model_module_version": "1.5.0",
          "state": {
            "_model_module": "@jupyter-widgets/controls",
            "_model_module_version": "1.5.0",
            "_model_name": "DescriptionStyleModel",
            "_view_count": null,
            "_view_module": "@jupyter-widgets/base",
            "_view_module_version": "1.2.0",
            "_view_name": "StyleView",
            "description_width": ""
          }
        },
        "66c03e1d2bf2463e87be7eb96aadad0b": {
          "model_module": "@jupyter-widgets/base",
          "model_name": "LayoutModel",
          "model_module_version": "1.2.0",
          "state": {
            "_model_module": "@jupyter-widgets/base",
            "_model_module_version": "1.2.0",
            "_model_name": "LayoutModel",
            "_view_count": null,
            "_view_module": "@jupyter-widgets/base",
            "_view_module_version": "1.2.0",
            "_view_name": "LayoutView",
            "align_content": null,
            "align_items": null,
            "align_self": null,
            "border": null,
            "bottom": null,
            "display": null,
            "flex": null,
            "flex_flow": null,
            "grid_area": null,
            "grid_auto_columns": null,
            "grid_auto_flow": null,
            "grid_auto_rows": null,
            "grid_column": null,
            "grid_gap": null,
            "grid_row": null,
            "grid_template_areas": null,
            "grid_template_columns": null,
            "grid_template_rows": null,
            "height": null,
            "justify_content": null,
            "justify_items": null,
            "left": null,
            "margin": null,
            "max_height": null,
            "max_width": null,
            "min_height": null,
            "min_width": null,
            "object_fit": null,
            "object_position": null,
            "order": null,
            "overflow": null,
            "overflow_x": null,
            "overflow_y": null,
            "padding": null,
            "right": null,
            "top": null,
            "visibility": null,
            "width": null
          }
        },
        "d88a5ef0e3ee4560900e499e547950eb": {
          "model_module": "@jupyter-widgets/controls",
          "model_name": "ProgressStyleModel",
          "model_module_version": "1.5.0",
          "state": {
            "_model_module": "@jupyter-widgets/controls",
            "_model_module_version": "1.5.0",
            "_model_name": "ProgressStyleModel",
            "_view_count": null,
            "_view_module": "@jupyter-widgets/base",
            "_view_module_version": "1.2.0",
            "_view_name": "StyleView",
            "bar_color": null,
            "description_width": ""
          }
        },
        "d2081cfc2a98494d88e6190462cc81cb": {
          "model_module": "@jupyter-widgets/base",
          "model_name": "LayoutModel",
          "model_module_version": "1.2.0",
          "state": {
            "_model_module": "@jupyter-widgets/base",
            "_model_module_version": "1.2.0",
            "_model_name": "LayoutModel",
            "_view_count": null,
            "_view_module": "@jupyter-widgets/base",
            "_view_module_version": "1.2.0",
            "_view_name": "LayoutView",
            "align_content": null,
            "align_items": null,
            "align_self": null,
            "border": null,
            "bottom": null,
            "display": null,
            "flex": null,
            "flex_flow": null,
            "grid_area": null,
            "grid_auto_columns": null,
            "grid_auto_flow": null,
            "grid_auto_rows": null,
            "grid_column": null,
            "grid_gap": null,
            "grid_row": null,
            "grid_template_areas": null,
            "grid_template_columns": null,
            "grid_template_rows": null,
            "height": null,
            "justify_content": null,
            "justify_items": null,
            "left": null,
            "margin": null,
            "max_height": null,
            "max_width": null,
            "min_height": null,
            "min_width": null,
            "object_fit": null,
            "object_position": null,
            "order": null,
            "overflow": null,
            "overflow_x": null,
            "overflow_y": null,
            "padding": null,
            "right": null,
            "top": null,
            "visibility": null,
            "width": null
          }
        },
        "319b78dee2674d94a0d82a9556377d34": {
          "model_module": "@jupyter-widgets/controls",
          "model_name": "DescriptionStyleModel",
          "model_module_version": "1.5.0",
          "state": {
            "_model_module": "@jupyter-widgets/controls",
            "_model_module_version": "1.5.0",
            "_model_name": "DescriptionStyleModel",
            "_view_count": null,
            "_view_module": "@jupyter-widgets/base",
            "_view_module_version": "1.2.0",
            "_view_name": "StyleView",
            "description_width": ""
          }
        }
      }
    }
  },
  "cells": [
    {
      "cell_type": "markdown",
      "metadata": {
        "id": "view-in-github",
        "colab_type": "text"
      },
      "source": [
        "<a href=\"https://colab.research.google.com/github/tranmanhcuong253/DistilBERT/blob/main/DistilBERT.ipynb\" target=\"_parent\"><img src=\"https://colab.research.google.com/assets/colab-badge.svg\" alt=\"Open In Colab\"/></a>"
      ]
    },
    {
      "cell_type": "markdown",
      "source": [
        "#I.Sentiment Analysis"
      ],
      "metadata": {
        "id": "HEZ7iAxsHNCb"
      }
    },
    {
      "cell_type": "markdown",
      "source": [
        "Source:\n",
        "* https://jalammar.github.io/a-visual-guide-to-using-bert-for-the-first-time/\n",
        "* https://colab.research.google.com/github/jalammar/jalammar.github.io/blob/master/notebooks/bert/A_Visual_Notebook_to_Using_BERT_for_the_First_Time.ipynb#scrollTo=FoCep_WVuB3v"
      ],
      "metadata": {
        "id": "5eiTgn84QlA-"
      }
    },
    {
      "cell_type": "markdown",
      "source": [
        "##1.Import Basic Package"
      ],
      "metadata": {
        "id": "diBMh-jAJe6Q"
      }
    },
    {
      "cell_type": "code",
      "source": [
        "import numpy as np\n",
        "import pandas as pd\n",
        "import torch\n",
        "import transformers\n",
        "from sklearn.linear_model import LogisticRegression\n",
        "from sklearn.model_selection import cross_val_score\n",
        "from sklearn.model_selection import train_test_split\n",
        "from sklearn.model_selection import GridSearchCV\n",
        "import warnings\n",
        "warnings.filterwarnings('ignore')"
      ],
      "metadata": {
        "id": "2kL7VL0iIOLG"
      },
      "execution_count": null,
      "outputs": []
    },
    {
      "cell_type": "markdown",
      "source": [
        "##2.Load Dataset"
      ],
      "metadata": {
        "id": "FZpX16ZrJQyL"
      }
    },
    {
      "cell_type": "code",
      "source": [
        "df = pd.read_csv('https://github.com/clairett/pytorch-sentiment-classification/raw/master/data/SST2/train.tsv', delimiter='\\t', header=None)"
      ],
      "metadata": {
        "id": "1kQHoVl_JmBe"
      },
      "execution_count": null,
      "outputs": []
    },
    {
      "cell_type": "code",
      "source": [
        "df=df[:2000]"
      ],
      "metadata": {
        "id": "uB9RkHWkJodp"
      },
      "execution_count": null,
      "outputs": []
    },
    {
      "cell_type": "code",
      "source": [
        "df[1].value_counts()"
      ],
      "metadata": {
        "colab": {
          "base_uri": "https://localhost:8080/"
        },
        "id": "bAvZSAsnJpv_",
        "outputId": "e9bf2ae9-5c1f-470b-a9f3-0ef76ec6a440"
      },
      "execution_count": null,
      "outputs": [
        {
          "output_type": "execute_result",
          "data": {
            "text/plain": [
              "1\n",
              "1    1041\n",
              "0     959\n",
              "Name: count, dtype: int64"
            ]
          },
          "metadata": {},
          "execution_count": 32
        }
      ]
    },
    {
      "cell_type": "markdown",
      "source": [
        "##3.Loading the Pre-Trained BERT model"
      ],
      "metadata": {
        "id": "4enaVYkEKHA0"
      }
    },
    {
      "cell_type": "code",
      "source": [
        "#For DistilBERT\n",
        "model_class, tokenizer_class, pretrained_weights = (transformers.DistilBertModel,transformers.DistilBertTokenizer,'distilbert-base-uncased')\n",
        "\n",
        "## Want BERT instead of distilBERT? Uncomment the following line:\n",
        "#model_class, tokenizer_class, pretrained_weights = (ppb.BertModel, ppb.BertTokenizer, 'bert-base-uncased')"
      ],
      "metadata": {
        "id": "CwK7MyBOKWux"
      },
      "execution_count": null,
      "outputs": []
    },
    {
      "cell_type": "code",
      "source": [
        "#Load pretrained model/tokenizer\n",
        "tokenizer = tokenizer_class.from_pretrained(pretrained_weights)\n",
        "model = model_class.from_pretrained(pretrained_weights)"
      ],
      "metadata": {
        "id": "-t7pNuU7KzUc",
        "colab": {
          "base_uri": "https://localhost:8080/",
          "height": 177,
          "referenced_widgets": [
            "cb2eca3e1e0f4fee9c2f56b5d64c9c09",
            "1f8778e0ef8347a2a611588b2f8a8fbd",
            "e2caa80e79904afbbd3661eeb6396d86",
            "a2dc1a458e204796a354a86cdb68d8d0",
            "5132f147bd6f487e951648d225f69f43",
            "055e5ae934a146d1b509d3aa344c2b48",
            "98db3429e28a4840b4a670197d5706a2",
            "5fe49d6e5b444588a19db6f1d767a9ef",
            "62cf4d3efb8748ba90f501ffbd78a459",
            "13b043ee29554606ae3f7a5379765290",
            "275c99c6d7974e06bdbc206dcb2dc35b",
            "bbdbc767f31541418184671cb2827d39",
            "9fb2e9aa8d1b4a07919494dbb66898ad",
            "0a350df8a37a4c8abd04609602203148",
            "e64c320583b74e12a52fcf820147252d",
            "3f576f2ccc824b40807470622134edd4",
            "aadec457bf8647c6899c6e5b6790f2cf",
            "7d9c797183fc462e8592e600e092e743",
            "8d977b0016cd4b1aaf4503663be9bb2b",
            "67734e3a949240c0bd4931ebac003fd8",
            "6ebdff39cfed4586935e2853f27120f3",
            "0575905745cb4c84b7426e27e5c4ed48",
            "31d23271ea2c4d67acaf311936bb4e51",
            "0304cc2c977a480494856e0a42262b10",
            "c0a2f7c7a83a4d479b3f4606975a3ca7",
            "2fd71d2974634af29e9b83b6be8cd7d2",
            "4e3b4bc82fc446ce86754115c68b5d88",
            "6f573e2848534dc292e92ddfa78b0fa7",
            "14e4db3d7e2e442caa676fac13fcf3ac",
            "1f3798fa67e54472b4b3da973f8a2fca",
            "8d9a2b473a42423ab3009c8af79a53fa",
            "e0fbd62ca88d44c7b3cdba94260159db",
            "921fa0efb8b8482e8a379f43bbb794d5",
            "c1a57a972ab441b9810d6b06de54f200",
            "ead1c774431841eea3d31f40dd329ec2",
            "38e9d5963d5c43058229ddcaa7619dc0",
            "94d1a0ecfe46412bbc41b4a35a056afa",
            "c22383a48eac4973ac1e86046e355214",
            "fc823ac83b1c4ce3a45a833512d8e6cf",
            "23705a55f52c4948bd0f4f8f7254b353",
            "fd2e587c7c5543f599def69df65c18c6",
            "46b533af7b28488d8916c08cfc38093e",
            "61708a9f6ca54295a2eb440d3828c867",
            "09751f5a96f8477abf246d3176d2af86",
            "588fdedbb4c848da9b31e9a40e2996e8",
            "201cb6aea32e4695acabd9fb846300c5",
            "e3640c1190394fe78da529f659fb41ff",
            "5a201c1aee714c38857d0d755cb0499c",
            "d89bc8dac9b441d28ce9f8d7237d6ea6",
            "d06aa343a539475eb13caf75d5dc8f36",
            "6371caeea3b44b22acce33e1bbe555d2",
            "66c03e1d2bf2463e87be7eb96aadad0b",
            "d88a5ef0e3ee4560900e499e547950eb",
            "d2081cfc2a98494d88e6190462cc81cb",
            "319b78dee2674d94a0d82a9556377d34"
          ]
        },
        "outputId": "1ee49315-46d6-40eb-fd4e-63a83d1d9d74"
      },
      "execution_count": null,
      "outputs": [
        {
          "output_type": "display_data",
          "data": {
            "text/plain": [
              "tokenizer_config.json:   0%|          | 0.00/48.0 [00:00<?, ?B/s]"
            ],
            "application/vnd.jupyter.widget-view+json": {
              "version_major": 2,
              "version_minor": 0,
              "model_id": "cb2eca3e1e0f4fee9c2f56b5d64c9c09"
            }
          },
          "metadata": {}
        },
        {
          "output_type": "display_data",
          "data": {
            "text/plain": [
              "vocab.txt:   0%|          | 0.00/232k [00:00<?, ?B/s]"
            ],
            "application/vnd.jupyter.widget-view+json": {
              "version_major": 2,
              "version_minor": 0,
              "model_id": "bbdbc767f31541418184671cb2827d39"
            }
          },
          "metadata": {}
        },
        {
          "output_type": "display_data",
          "data": {
            "text/plain": [
              "tokenizer.json:   0%|          | 0.00/466k [00:00<?, ?B/s]"
            ],
            "application/vnd.jupyter.widget-view+json": {
              "version_major": 2,
              "version_minor": 0,
              "model_id": "31d23271ea2c4d67acaf311936bb4e51"
            }
          },
          "metadata": {}
        },
        {
          "output_type": "display_data",
          "data": {
            "text/plain": [
              "config.json:   0%|          | 0.00/483 [00:00<?, ?B/s]"
            ],
            "application/vnd.jupyter.widget-view+json": {
              "version_major": 2,
              "version_minor": 0,
              "model_id": "c1a57a972ab441b9810d6b06de54f200"
            }
          },
          "metadata": {}
        },
        {
          "output_type": "display_data",
          "data": {
            "text/plain": [
              "model.safetensors:   0%|          | 0.00/268M [00:00<?, ?B/s]"
            ],
            "application/vnd.jupyter.widget-view+json": {
              "version_major": 2,
              "version_minor": 0,
              "model_id": "588fdedbb4c848da9b31e9a40e2996e8"
            }
          },
          "metadata": {}
        }
      ]
    },
    {
      "cell_type": "markdown",
      "source": [
        "##4.Preparing the Dataset"
      ],
      "metadata": {
        "id": "9xev0EN-LN5N"
      }
    },
    {
      "cell_type": "markdown",
      "source": [
        "###4.1.Tokenization\n",
        "Our first step is to tokenize the sentences -- break them up into word and subwords in the format BERT is comfortable with."
      ],
      "metadata": {
        "id": "SFLEqiuqLZ44"
      }
    },
    {
      "cell_type": "code",
      "source": [
        "tokenized = df[0].apply(lambda x: tokenizer.encode(x,add_special_tokens=True))\n",
        "df['tokenized'] = tokenized\n",
        "df.head()"
      ],
      "metadata": {
        "colab": {
          "base_uri": "https://localhost:8080/",
          "height": 206
        },
        "id": "uwC9k7rRLf3o",
        "outputId": "22e737a9-95c7-437a-b26d-cd1ec14a0bdd"
      },
      "execution_count": null,
      "outputs": [
        {
          "output_type": "execute_result",
          "data": {
            "text/plain": [
              "                                                   0  1  \\\n",
              "0  a stirring , funny and finally transporting re...  1   \n",
              "1  apparently reassembled from the cutting room f...  0   \n",
              "2  they presume their audience wo n't sit still f...  0   \n",
              "3  this is a visually stunning rumination on love...  1   \n",
              "4  jonathan parker 's bartleby should have been t...  1   \n",
              "\n",
              "                                           tokenized  \n",
              "0  [101, 1037, 18385, 1010, 6057, 1998, 2633, 182...  \n",
              "1  [101, 4593, 2128, 27241, 23931, 2013, 1996, 62...  \n",
              "2  [101, 2027, 3653, 23545, 2037, 4378, 24185, 10...  \n",
              "3  [101, 2023, 2003, 1037, 17453, 14726, 19379, 1...  \n",
              "4  [101, 5655, 6262, 1005, 1055, 12075, 2571, 376...  "
            ],
            "text/html": [
              "\n",
              "  <div id=\"df-a7b26d64-dfa7-493d-a41b-30c16290e61d\" class=\"colab-df-container\">\n",
              "    <div>\n",
              "<style scoped>\n",
              "    .dataframe tbody tr th:only-of-type {\n",
              "        vertical-align: middle;\n",
              "    }\n",
              "\n",
              "    .dataframe tbody tr th {\n",
              "        vertical-align: top;\n",
              "    }\n",
              "\n",
              "    .dataframe thead th {\n",
              "        text-align: right;\n",
              "    }\n",
              "</style>\n",
              "<table border=\"1\" class=\"dataframe\">\n",
              "  <thead>\n",
              "    <tr style=\"text-align: right;\">\n",
              "      <th></th>\n",
              "      <th>0</th>\n",
              "      <th>1</th>\n",
              "      <th>tokenized</th>\n",
              "    </tr>\n",
              "  </thead>\n",
              "  <tbody>\n",
              "    <tr>\n",
              "      <th>0</th>\n",
              "      <td>a stirring , funny and finally transporting re...</td>\n",
              "      <td>1</td>\n",
              "      <td>[101, 1037, 18385, 1010, 6057, 1998, 2633, 182...</td>\n",
              "    </tr>\n",
              "    <tr>\n",
              "      <th>1</th>\n",
              "      <td>apparently reassembled from the cutting room f...</td>\n",
              "      <td>0</td>\n",
              "      <td>[101, 4593, 2128, 27241, 23931, 2013, 1996, 62...</td>\n",
              "    </tr>\n",
              "    <tr>\n",
              "      <th>2</th>\n",
              "      <td>they presume their audience wo n't sit still f...</td>\n",
              "      <td>0</td>\n",
              "      <td>[101, 2027, 3653, 23545, 2037, 4378, 24185, 10...</td>\n",
              "    </tr>\n",
              "    <tr>\n",
              "      <th>3</th>\n",
              "      <td>this is a visually stunning rumination on love...</td>\n",
              "      <td>1</td>\n",
              "      <td>[101, 2023, 2003, 1037, 17453, 14726, 19379, 1...</td>\n",
              "    </tr>\n",
              "    <tr>\n",
              "      <th>4</th>\n",
              "      <td>jonathan parker 's bartleby should have been t...</td>\n",
              "      <td>1</td>\n",
              "      <td>[101, 5655, 6262, 1005, 1055, 12075, 2571, 376...</td>\n",
              "    </tr>\n",
              "  </tbody>\n",
              "</table>\n",
              "</div>\n",
              "    <div class=\"colab-df-buttons\">\n",
              "\n",
              "  <div class=\"colab-df-container\">\n",
              "    <button class=\"colab-df-convert\" onclick=\"convertToInteractive('df-a7b26d64-dfa7-493d-a41b-30c16290e61d')\"\n",
              "            title=\"Convert this dataframe to an interactive table.\"\n",
              "            style=\"display:none;\">\n",
              "\n",
              "  <svg xmlns=\"http://www.w3.org/2000/svg\" height=\"24px\" viewBox=\"0 -960 960 960\">\n",
              "    <path d=\"M120-120v-720h720v720H120Zm60-500h600v-160H180v160Zm220 220h160v-160H400v160Zm0 220h160v-160H400v160ZM180-400h160v-160H180v160Zm440 0h160v-160H620v160ZM180-180h160v-160H180v160Zm440 0h160v-160H620v160Z\"/>\n",
              "  </svg>\n",
              "    </button>\n",
              "\n",
              "  <style>\n",
              "    .colab-df-container {\n",
              "      display:flex;\n",
              "      gap: 12px;\n",
              "    }\n",
              "\n",
              "    .colab-df-convert {\n",
              "      background-color: #E8F0FE;\n",
              "      border: none;\n",
              "      border-radius: 50%;\n",
              "      cursor: pointer;\n",
              "      display: none;\n",
              "      fill: #1967D2;\n",
              "      height: 32px;\n",
              "      padding: 0 0 0 0;\n",
              "      width: 32px;\n",
              "    }\n",
              "\n",
              "    .colab-df-convert:hover {\n",
              "      background-color: #E2EBFA;\n",
              "      box-shadow: 0px 1px 2px rgba(60, 64, 67, 0.3), 0px 1px 3px 1px rgba(60, 64, 67, 0.15);\n",
              "      fill: #174EA6;\n",
              "    }\n",
              "\n",
              "    .colab-df-buttons div {\n",
              "      margin-bottom: 4px;\n",
              "    }\n",
              "\n",
              "    [theme=dark] .colab-df-convert {\n",
              "      background-color: #3B4455;\n",
              "      fill: #D2E3FC;\n",
              "    }\n",
              "\n",
              "    [theme=dark] .colab-df-convert:hover {\n",
              "      background-color: #434B5C;\n",
              "      box-shadow: 0px 1px 3px 1px rgba(0, 0, 0, 0.15);\n",
              "      filter: drop-shadow(0px 1px 2px rgba(0, 0, 0, 0.3));\n",
              "      fill: #FFFFFF;\n",
              "    }\n",
              "  </style>\n",
              "\n",
              "    <script>\n",
              "      const buttonEl =\n",
              "        document.querySelector('#df-a7b26d64-dfa7-493d-a41b-30c16290e61d button.colab-df-convert');\n",
              "      buttonEl.style.display =\n",
              "        google.colab.kernel.accessAllowed ? 'block' : 'none';\n",
              "\n",
              "      async function convertToInteractive(key) {\n",
              "        const element = document.querySelector('#df-a7b26d64-dfa7-493d-a41b-30c16290e61d');\n",
              "        const dataTable =\n",
              "          await google.colab.kernel.invokeFunction('convertToInteractive',\n",
              "                                                    [key], {});\n",
              "        if (!dataTable) return;\n",
              "\n",
              "        const docLinkHtml = 'Like what you see? Visit the ' +\n",
              "          '<a target=\"_blank\" href=https://colab.research.google.com/notebooks/data_table.ipynb>data table notebook</a>'\n",
              "          + ' to learn more about interactive tables.';\n",
              "        element.innerHTML = '';\n",
              "        dataTable['output_type'] = 'display_data';\n",
              "        await google.colab.output.renderOutput(dataTable, element);\n",
              "        const docLink = document.createElement('div');\n",
              "        docLink.innerHTML = docLinkHtml;\n",
              "        element.appendChild(docLink);\n",
              "      }\n",
              "    </script>\n",
              "  </div>\n",
              "\n",
              "\n",
              "<div id=\"df-1963f146-f850-4b8a-b8eb-d4016d49c876\">\n",
              "  <button class=\"colab-df-quickchart\" onclick=\"quickchart('df-1963f146-f850-4b8a-b8eb-d4016d49c876')\"\n",
              "            title=\"Suggest charts\"\n",
              "            style=\"display:none;\">\n",
              "\n",
              "<svg xmlns=\"http://www.w3.org/2000/svg\" height=\"24px\"viewBox=\"0 0 24 24\"\n",
              "     width=\"24px\">\n",
              "    <g>\n",
              "        <path d=\"M19 3H5c-1.1 0-2 .9-2 2v14c0 1.1.9 2 2 2h14c1.1 0 2-.9 2-2V5c0-1.1-.9-2-2-2zM9 17H7v-7h2v7zm4 0h-2V7h2v10zm4 0h-2v-4h2v4z\"/>\n",
              "    </g>\n",
              "</svg>\n",
              "  </button>\n",
              "\n",
              "<style>\n",
              "  .colab-df-quickchart {\n",
              "      --bg-color: #E8F0FE;\n",
              "      --fill-color: #1967D2;\n",
              "      --hover-bg-color: #E2EBFA;\n",
              "      --hover-fill-color: #174EA6;\n",
              "      --disabled-fill-color: #AAA;\n",
              "      --disabled-bg-color: #DDD;\n",
              "  }\n",
              "\n",
              "  [theme=dark] .colab-df-quickchart {\n",
              "      --bg-color: #3B4455;\n",
              "      --fill-color: #D2E3FC;\n",
              "      --hover-bg-color: #434B5C;\n",
              "      --hover-fill-color: #FFFFFF;\n",
              "      --disabled-bg-color: #3B4455;\n",
              "      --disabled-fill-color: #666;\n",
              "  }\n",
              "\n",
              "  .colab-df-quickchart {\n",
              "    background-color: var(--bg-color);\n",
              "    border: none;\n",
              "    border-radius: 50%;\n",
              "    cursor: pointer;\n",
              "    display: none;\n",
              "    fill: var(--fill-color);\n",
              "    height: 32px;\n",
              "    padding: 0;\n",
              "    width: 32px;\n",
              "  }\n",
              "\n",
              "  .colab-df-quickchart:hover {\n",
              "    background-color: var(--hover-bg-color);\n",
              "    box-shadow: 0 1px 2px rgba(60, 64, 67, 0.3), 0 1px 3px 1px rgba(60, 64, 67, 0.15);\n",
              "    fill: var(--button-hover-fill-color);\n",
              "  }\n",
              "\n",
              "  .colab-df-quickchart-complete:disabled,\n",
              "  .colab-df-quickchart-complete:disabled:hover {\n",
              "    background-color: var(--disabled-bg-color);\n",
              "    fill: var(--disabled-fill-color);\n",
              "    box-shadow: none;\n",
              "  }\n",
              "\n",
              "  .colab-df-spinner {\n",
              "    border: 2px solid var(--fill-color);\n",
              "    border-color: transparent;\n",
              "    border-bottom-color: var(--fill-color);\n",
              "    animation:\n",
              "      spin 1s steps(1) infinite;\n",
              "  }\n",
              "\n",
              "  @keyframes spin {\n",
              "    0% {\n",
              "      border-color: transparent;\n",
              "      border-bottom-color: var(--fill-color);\n",
              "      border-left-color: var(--fill-color);\n",
              "    }\n",
              "    20% {\n",
              "      border-color: transparent;\n",
              "      border-left-color: var(--fill-color);\n",
              "      border-top-color: var(--fill-color);\n",
              "    }\n",
              "    30% {\n",
              "      border-color: transparent;\n",
              "      border-left-color: var(--fill-color);\n",
              "      border-top-color: var(--fill-color);\n",
              "      border-right-color: var(--fill-color);\n",
              "    }\n",
              "    40% {\n",
              "      border-color: transparent;\n",
              "      border-right-color: var(--fill-color);\n",
              "      border-top-color: var(--fill-color);\n",
              "    }\n",
              "    60% {\n",
              "      border-color: transparent;\n",
              "      border-right-color: var(--fill-color);\n",
              "    }\n",
              "    80% {\n",
              "      border-color: transparent;\n",
              "      border-right-color: var(--fill-color);\n",
              "      border-bottom-color: var(--fill-color);\n",
              "    }\n",
              "    90% {\n",
              "      border-color: transparent;\n",
              "      border-bottom-color: var(--fill-color);\n",
              "    }\n",
              "  }\n",
              "</style>\n",
              "\n",
              "  <script>\n",
              "    async function quickchart(key) {\n",
              "      const quickchartButtonEl =\n",
              "        document.querySelector('#' + key + ' button');\n",
              "      quickchartButtonEl.disabled = true;  // To prevent multiple clicks.\n",
              "      quickchartButtonEl.classList.add('colab-df-spinner');\n",
              "      try {\n",
              "        const charts = await google.colab.kernel.invokeFunction(\n",
              "            'suggestCharts', [key], {});\n",
              "      } catch (error) {\n",
              "        console.error('Error during call to suggestCharts:', error);\n",
              "      }\n",
              "      quickchartButtonEl.classList.remove('colab-df-spinner');\n",
              "      quickchartButtonEl.classList.add('colab-df-quickchart-complete');\n",
              "    }\n",
              "    (() => {\n",
              "      let quickchartButtonEl =\n",
              "        document.querySelector('#df-1963f146-f850-4b8a-b8eb-d4016d49c876 button');\n",
              "      quickchartButtonEl.style.display =\n",
              "        google.colab.kernel.accessAllowed ? 'block' : 'none';\n",
              "    })();\n",
              "  </script>\n",
              "</div>\n",
              "\n",
              "    </div>\n",
              "  </div>\n"
            ],
            "application/vnd.google.colaboratory.intrinsic+json": {
              "type": "dataframe",
              "variable_name": "df",
              "summary": "{\n  \"name\": \"df\",\n  \"rows\": 2000,\n  \"fields\": [\n    {\n      \"column\": 0,\n      \"properties\": {\n        \"dtype\": \"string\",\n        \"num_unique_values\": 1999,\n        \"samples\": [\n          \"nothing about this movie works\",\n          \"like mike is a slight and uninventive movie like the exalted michael jordan referred to in the title , many can aspire but none can equal\",\n          \"the story is a rather simplistic one grief drives her , love drives him , and a second chance to find love in the most unlikely place it struck a chord in me\"\n        ],\n        \"semantic_type\": \"\",\n        \"description\": \"\"\n      }\n    },\n    {\n      \"column\": 1,\n      \"properties\": {\n        \"dtype\": \"number\",\n        \"std\": 0,\n        \"min\": 0,\n        \"max\": 1,\n        \"num_unique_values\": 2,\n        \"samples\": [\n          0,\n          1\n        ],\n        \"semantic_type\": \"\",\n        \"description\": \"\"\n      }\n    },\n    {\n      \"column\": \"tokenized\",\n      \"properties\": {\n        \"dtype\": \"object\",\n        \"semantic_type\": \"\",\n        \"description\": \"\"\n      }\n    }\n  ]\n}"
            }
          },
          "metadata": {},
          "execution_count": 35
        }
      ]
    },
    {
      "cell_type": "code",
      "source": [
        "df[0][0],df['tokenized'][0]"
      ],
      "metadata": {
        "colab": {
          "base_uri": "https://localhost:8080/"
        },
        "id": "XKUL05IFL3a0",
        "outputId": "b2b59521-3812-4256-8217-2c06a09e4611"
      },
      "execution_count": null,
      "outputs": [
        {
          "output_type": "execute_result",
          "data": {
            "text/plain": [
              "('a stirring , funny and finally transporting re imagining of beauty and the beast and 1930s horror films',\n",
              " [101,\n",
              "  1037,\n",
              "  18385,\n",
              "  1010,\n",
              "  6057,\n",
              "  1998,\n",
              "  2633,\n",
              "  18276,\n",
              "  2128,\n",
              "  16603,\n",
              "  1997,\n",
              "  5053,\n",
              "  1998,\n",
              "  1996,\n",
              "  6841,\n",
              "  1998,\n",
              "  5687,\n",
              "  5469,\n",
              "  3152,\n",
              "  102])"
            ]
          },
          "metadata": {},
          "execution_count": 36
        }
      ]
    },
    {
      "cell_type": "markdown",
      "source": [
        "###4.2.Padding\n",
        "After tokenization, tokenized is a list of sentences -- each sentences is represented as a list of tokens. We want BERT to process our examples all at once (as one batch). It's just faster that way. For that reason, we need to pad all lists to the same size, so we can represent the input as one 2-d array, rather than a list of lists (of different lengths)."
      ],
      "metadata": {
        "id": "HUPU2OGRMBzB"
      }
    },
    {
      "cell_type": "code",
      "source": [
        "type(tokenized)"
      ],
      "metadata": {
        "colab": {
          "base_uri": "https://localhost:8080/",
          "height": 204
        },
        "id": "kgeGlUilMyXE",
        "outputId": "50041a84-8a1c-4ded-b6ab-af5fb8b5fba5"
      },
      "execution_count": null,
      "outputs": [
        {
          "output_type": "execute_result",
          "data": {
            "text/plain": [
              "pandas.core.series.Series"
            ],
            "text/html": [
              "<div style=\"max-width:800px; border: 1px solid var(--colab-border-color);\"><style>\n",
              "      pre.function-repr-contents {\n",
              "        overflow-x: auto;\n",
              "        padding: 8px 12px;\n",
              "        max-height: 500px;\n",
              "      }\n",
              "\n",
              "      pre.function-repr-contents.function-repr-contents-collapsed {\n",
              "        cursor: pointer;\n",
              "        max-height: 100px;\n",
              "      }\n",
              "    </style>\n",
              "    <pre style=\"white-space: initial; background:\n",
              "         var(--colab-secondary-surface-color); padding: 8px 12px;\n",
              "         border-bottom: 1px solid var(--colab-border-color);\"><b>pandas.core.series.Series</b><br/>def __init__(data=None, index=None, dtype: Dtype | None=None, name=None, copy: bool | None=None, fastpath: bool=False) -&gt; None</pre><pre class=\"function-repr-contents function-repr-contents-collapsed\" style=\"\"><a class=\"filepath\" style=\"display:none\" href=\"#\">/usr/local/lib/python3.10/dist-packages/pandas/core/series.py</a>One-dimensional ndarray with axis labels (including time series).\n",
              "\n",
              "Labels need not be unique but must be a hashable type. The object\n",
              "supports both integer- and label-based indexing and provides a host of\n",
              "methods for performing operations involving the index. Statistical\n",
              "methods from ndarray have been overridden to automatically exclude\n",
              "missing data (currently represented as NaN).\n",
              "\n",
              "Operations between Series (+, -, /, \\*, \\*\\*) align values based on their\n",
              "associated index values-- they need not be the same length. The result\n",
              "index will be the sorted union of the two indexes.\n",
              "\n",
              "Parameters\n",
              "----------\n",
              "data : array-like, Iterable, dict, or scalar value\n",
              "    Contains data stored in Series. If data is a dict, argument order is\n",
              "    maintained.\n",
              "index : array-like or Index (1d)\n",
              "    Values must be hashable and have the same length as `data`.\n",
              "    Non-unique index values are allowed. Will default to\n",
              "    RangeIndex (0, 1, 2, ..., n) if not provided. If data is dict-like\n",
              "    and index is None, then the keys in the data are used as the index. If the\n",
              "    index is not None, the resulting Series is reindexed with the index values.\n",
              "dtype : str, numpy.dtype, or ExtensionDtype, optional\n",
              "    Data type for the output Series. If not specified, this will be\n",
              "    inferred from `data`.\n",
              "    See the :ref:`user guide &lt;basics.dtypes&gt;` for more usages.\n",
              "name : Hashable, default None\n",
              "    The name to give to the Series.\n",
              "copy : bool, default False\n",
              "    Copy input data. Only affects Series or 1d ndarray input. See examples.\n",
              "\n",
              "Notes\n",
              "-----\n",
              "Please reference the :ref:`User Guide &lt;basics.series&gt;` for more information.\n",
              "\n",
              "Examples\n",
              "--------\n",
              "Constructing Series from a dictionary with an Index specified\n",
              "\n",
              "&gt;&gt;&gt; d = {&#x27;a&#x27;: 1, &#x27;b&#x27;: 2, &#x27;c&#x27;: 3}\n",
              "&gt;&gt;&gt; ser = pd.Series(data=d, index=[&#x27;a&#x27;, &#x27;b&#x27;, &#x27;c&#x27;])\n",
              "&gt;&gt;&gt; ser\n",
              "a   1\n",
              "b   2\n",
              "c   3\n",
              "dtype: int64\n",
              "\n",
              "The keys of the dictionary match with the Index values, hence the Index\n",
              "values have no effect.\n",
              "\n",
              "&gt;&gt;&gt; d = {&#x27;a&#x27;: 1, &#x27;b&#x27;: 2, &#x27;c&#x27;: 3}\n",
              "&gt;&gt;&gt; ser = pd.Series(data=d, index=[&#x27;x&#x27;, &#x27;y&#x27;, &#x27;z&#x27;])\n",
              "&gt;&gt;&gt; ser\n",
              "x   NaN\n",
              "y   NaN\n",
              "z   NaN\n",
              "dtype: float64\n",
              "\n",
              "Note that the Index is first build with the keys from the dictionary.\n",
              "After this the Series is reindexed with the given Index values, hence we\n",
              "get all NaN as a result.\n",
              "\n",
              "Constructing Series from a list with `copy=False`.\n",
              "\n",
              "&gt;&gt;&gt; r = [1, 2]\n",
              "&gt;&gt;&gt; ser = pd.Series(r, copy=False)\n",
              "&gt;&gt;&gt; ser.iloc[0] = 999\n",
              "&gt;&gt;&gt; r\n",
              "[1, 2]\n",
              "&gt;&gt;&gt; ser\n",
              "0    999\n",
              "1      2\n",
              "dtype: int64\n",
              "\n",
              "Due to input data type the Series has a `copy` of\n",
              "the original data even though `copy=False`, so\n",
              "the data is unchanged.\n",
              "\n",
              "Constructing Series from a 1d ndarray with `copy=False`.\n",
              "\n",
              "&gt;&gt;&gt; r = np.array([1, 2])\n",
              "&gt;&gt;&gt; ser = pd.Series(r, copy=False)\n",
              "&gt;&gt;&gt; ser.iloc[0] = 999\n",
              "&gt;&gt;&gt; r\n",
              "array([999,   2])\n",
              "&gt;&gt;&gt; ser\n",
              "0    999\n",
              "1      2\n",
              "dtype: int64\n",
              "\n",
              "Due to input data type the Series has a `view` on\n",
              "the original data, so\n",
              "the data is changed as well.</pre>\n",
              "      <script>\n",
              "      if (google.colab.kernel.accessAllowed && google.colab.files && google.colab.files.view) {\n",
              "        for (const element of document.querySelectorAll('.filepath')) {\n",
              "          element.style.display = 'block'\n",
              "          element.onclick = (event) => {\n",
              "            event.preventDefault();\n",
              "            event.stopPropagation();\n",
              "            google.colab.files.view(element.textContent, 244);\n",
              "          };\n",
              "        }\n",
              "      }\n",
              "      for (const element of document.querySelectorAll('.function-repr-contents')) {\n",
              "        element.onclick = (event) => {\n",
              "          event.preventDefault();\n",
              "          event.stopPropagation();\n",
              "          element.classList.toggle('function-repr-contents-collapsed');\n",
              "        };\n",
              "      }\n",
              "      </script>\n",
              "      </div>"
            ]
          },
          "metadata": {},
          "execution_count": 37
        }
      ]
    },
    {
      "cell_type": "code",
      "source": [
        "max_len = 0\n",
        "for i in tokenized.values:\n",
        "  if len(i) > max_len:\n",
        "    max_len=len(i)"
      ],
      "metadata": {
        "id": "WYpB95lUMSch"
      },
      "execution_count": null,
      "outputs": []
    },
    {
      "cell_type": "code",
      "source": [
        "max_len"
      ],
      "metadata": {
        "colab": {
          "base_uri": "https://localhost:8080/"
        },
        "id": "vK7YS0ltNRYk",
        "outputId": "5a861d39-214f-4e52-9f21-36a785e71e75"
      },
      "execution_count": null,
      "outputs": [
        {
          "output_type": "execute_result",
          "data": {
            "text/plain": [
              "59"
            ]
          },
          "metadata": {},
          "execution_count": 39
        }
      ]
    },
    {
      "cell_type": "code",
      "source": [
        "padded_tokenized = np.array([i + [0]*(max_len-len(i)) for i in tokenized.values])"
      ],
      "metadata": {
        "id": "_eoAeCuuM9Qy"
      },
      "execution_count": null,
      "outputs": []
    },
    {
      "cell_type": "code",
      "source": [
        "padded_tokenized[0]"
      ],
      "metadata": {
        "colab": {
          "base_uri": "https://localhost:8080/"
        },
        "id": "rp2zXXS8NMxx",
        "outputId": "eb9008dc-3d88-4b6d-8719-96b056b73f5f"
      },
      "execution_count": null,
      "outputs": [
        {
          "output_type": "execute_result",
          "data": {
            "text/plain": [
              "array([  101,  1037, 18385,  1010,  6057,  1998,  2633, 18276,  2128,\n",
              "       16603,  1997,  5053,  1998,  1996,  6841,  1998,  5687,  5469,\n",
              "        3152,   102,     0,     0,     0,     0,     0,     0,     0,\n",
              "           0,     0,     0,     0,     0,     0,     0,     0,     0,\n",
              "           0,     0,     0,     0,     0,     0,     0,     0,     0,\n",
              "           0,     0,     0,     0,     0,     0,     0,     0,     0,\n",
              "           0,     0,     0,     0,     0])"
            ]
          },
          "metadata": {},
          "execution_count": 41
        }
      ]
    },
    {
      "cell_type": "code",
      "source": [
        "padded_tokenized.shape"
      ],
      "metadata": {
        "colab": {
          "base_uri": "https://localhost:8080/"
        },
        "id": "vHg-AWwaNPhj",
        "outputId": "08d64a63-9242-4380-a45b-5e9d8c36b2e2"
      },
      "execution_count": null,
      "outputs": [
        {
          "output_type": "execute_result",
          "data": {
            "text/plain": [
              "(2000, 59)"
            ]
          },
          "metadata": {},
          "execution_count": 42
        }
      ]
    },
    {
      "cell_type": "markdown",
      "source": [
        "###4.3.Masking\n",
        "If we directly send padded to BERT, that would slightly confuse it. We need to create another variable to tell it to ignore (mask) the padding we've added when it's processing its input. That's what attention_mask is:"
      ],
      "metadata": {
        "id": "MAqDVsubNZ_F"
      }
    },
    {
      "cell_type": "code",
      "source": [
        "x = np.where((5-5)!=0,'a','b')\n",
        "x"
      ],
      "metadata": {
        "colab": {
          "base_uri": "https://localhost:8080/"
        },
        "id": "CugppboUOHQb",
        "outputId": "28f32abe-ffc1-4e60-c72e-e378a4adc916"
      },
      "execution_count": null,
      "outputs": [
        {
          "output_type": "execute_result",
          "data": {
            "text/plain": [
              "array('b', dtype='<U1')"
            ]
          },
          "metadata": {},
          "execution_count": 43
        }
      ]
    },
    {
      "cell_type": "code",
      "source": [
        "attention_mask = np.where(padded_tokenized != 0, 1, 0)\n",
        "padded_tokenized[0],attention_mask[0]"
      ],
      "metadata": {
        "colab": {
          "base_uri": "https://localhost:8080/"
        },
        "id": "igztaHmsNjRe",
        "outputId": "f8003d76-e917-419a-dd94-f149cc44b50e"
      },
      "execution_count": null,
      "outputs": [
        {
          "output_type": "execute_result",
          "data": {
            "text/plain": [
              "(array([  101,  1037, 18385,  1010,  6057,  1998,  2633, 18276,  2128,\n",
              "        16603,  1997,  5053,  1998,  1996,  6841,  1998,  5687,  5469,\n",
              "         3152,   102,     0,     0,     0,     0,     0,     0,     0,\n",
              "            0,     0,     0,     0,     0,     0,     0,     0,     0,\n",
              "            0,     0,     0,     0,     0,     0,     0,     0,     0,\n",
              "            0,     0,     0,     0,     0,     0,     0,     0,     0,\n",
              "            0,     0,     0,     0,     0]),\n",
              " array([1, 1, 1, 1, 1, 1, 1, 1, 1, 1, 1, 1, 1, 1, 1, 1, 1, 1, 1, 1, 0, 0,\n",
              "        0, 0, 0, 0, 0, 0, 0, 0, 0, 0, 0, 0, 0, 0, 0, 0, 0, 0, 0, 0, 0, 0,\n",
              "        0, 0, 0, 0, 0, 0, 0, 0, 0, 0, 0, 0, 0, 0, 0]))"
            ]
          },
          "metadata": {},
          "execution_count": 44
        }
      ]
    },
    {
      "cell_type": "markdown",
      "source": [
        "##5.Run the BERT model\n",
        "The `model()` function runs our sentences through BERT. The results of the processing will be returned into `last_hidden_states`."
      ],
      "metadata": {
        "id": "eOp7dBCMOT3e"
      }
    },
    {
      "cell_type": "code",
      "source": [
        "input_ids = torch.tensor(padded_tokenized)\n",
        "attention_mask = torch.tensor(attention_mask)\n",
        "\n",
        "with torch.inference_mode():\n",
        "  last_hidden_states = model(input_ids,attention_mask=attention_mask)"
      ],
      "metadata": {
        "id": "jJPs7mduO4Xj"
      },
      "execution_count": null,
      "outputs": []
    },
    {
      "cell_type": "code",
      "source": [
        "input_ids.shape\n",
        "attention_mask.shape"
      ],
      "metadata": {
        "colab": {
          "base_uri": "https://localhost:8080/"
        },
        "id": "p07ZXZrhFHwh",
        "outputId": "10dca3b1-0d4d-488d-cdac-2408175ee271"
      },
      "execution_count": null,
      "outputs": [
        {
          "output_type": "execute_result",
          "data": {
            "text/plain": [
              "torch.Size([2000, 59])"
            ]
          },
          "metadata": {},
          "execution_count": 48
        }
      ]
    },
    {
      "cell_type": "markdown",
      "source": [
        "Let's slice only the part of the output that we need. That is the output corresponding the first token of each sentence. The way BERT does sentence classification, is that it adds a token called [CLS] (for classification) at the beginning of every sentence. The output corresponding to that token can be thought of as an embedding for the entire sentence.\n",
        "\n",
        "After going through the model the [CLS] token learn all about the sentence context, meaning,... So basically, it is the representation of the whole sentence"
      ],
      "metadata": {
        "id": "ErkYYiKsP7UN"
      }
    },
    {
      "cell_type": "markdown",
      "source": [
        "![image.png](data:image/png;base64,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)"
      ],
      "metadata": {
        "id": "zRU4ZRQvQfBI"
      }
    },
    {
      "cell_type": "code",
      "source": [
        "last_hidden_states[0][0,0,:].shape#sentence 0, token 0 ([CLS]), and all of it hidden states"
      ],
      "metadata": {
        "colab": {
          "base_uri": "https://localhost:8080/"
        },
        "id": "nYzkCUo5QjZF",
        "outputId": "ed088d70-d58f-41a3-d700-c974d0bf1083"
      },
      "execution_count": null,
      "outputs": [
        {
          "output_type": "execute_result",
          "data": {
            "text/plain": [
              "torch.Size([768])"
            ]
          },
          "metadata": {},
          "execution_count": 38
        }
      ]
    },
    {
      "cell_type": "code",
      "source": [
        "last_hidden_states[0].shape"
      ],
      "metadata": {
        "colab": {
          "base_uri": "https://localhost:8080/"
        },
        "id": "G68en7T9REB1",
        "outputId": "394c74bb-1ffd-4723-a701-e57f0faa9e03"
      },
      "execution_count": null,
      "outputs": [
        {
          "output_type": "execute_result",
          "data": {
            "text/plain": [
              "torch.Size([2000, 59, 768])"
            ]
          },
          "metadata": {},
          "execution_count": 41
        }
      ]
    },
    {
      "cell_type": "markdown",
      "source": [
        "Because we only want the representation of [CLS] token. We'll save those in the features variable, as they'll serve as the features to our logitics regression model."
      ],
      "metadata": {
        "id": "niu458U1RYAe"
      }
    },
    {
      "cell_type": "code",
      "source": [
        "features = last_hidden_states[0][:,0,:].numpy()"
      ],
      "metadata": {
        "id": "QKBLohduStub"
      },
      "execution_count": null,
      "outputs": []
    },
    {
      "cell_type": "code",
      "source": [
        "features.shape#Every [CLS] token of 2000 sentence"
      ],
      "metadata": {
        "colab": {
          "base_uri": "https://localhost:8080/"
        },
        "id": "qwHIK-g6Svml",
        "outputId": "ef7d2087-f894-4e3e-bf78-57262ec68ff9"
      },
      "execution_count": null,
      "outputs": [
        {
          "output_type": "execute_result",
          "data": {
            "text/plain": [
              "(2000, 768)"
            ]
          },
          "metadata": {},
          "execution_count": 46
        }
      ]
    },
    {
      "cell_type": "code",
      "source": [
        "#Extract the labels of each sentence\n",
        "labels = df[1]\n",
        "labels"
      ],
      "metadata": {
        "colab": {
          "base_uri": "https://localhost:8080/"
        },
        "id": "w2sJCIgiSxRx",
        "outputId": "4feabe51-192b-47a9-a4ea-c9189638b672"
      },
      "execution_count": null,
      "outputs": [
        {
          "output_type": "execute_result",
          "data": {
            "text/plain": [
              "0       1\n",
              "1       0\n",
              "2       0\n",
              "3       1\n",
              "4       1\n",
              "       ..\n",
              "1995    0\n",
              "1996    0\n",
              "1997    0\n",
              "1998    0\n",
              "1999    0\n",
              "Name: 1, Length: 2000, dtype: int64"
            ]
          },
          "metadata": {},
          "execution_count": 44
        }
      ]
    },
    {
      "cell_type": "markdown",
      "source": [
        "##6.Using the second model: LogisticRegression for classification"
      ],
      "metadata": {
        "id": "dA0zDYweS831"
      }
    },
    {
      "cell_type": "markdown",
      "source": [
        "###6.1.Split data"
      ],
      "metadata": {
        "id": "7NtdCSryTjTL"
      }
    },
    {
      "cell_type": "code",
      "source": [
        "train_features, test_features, train_labels, test_labels = train_test_split(features, labels)"
      ],
      "metadata": {
        "id": "j3-90ygiTQRi"
      },
      "execution_count": null,
      "outputs": []
    },
    {
      "cell_type": "code",
      "source": [
        "len(train_features),len(test_features),len(train_labels),len(test_labels)"
      ],
      "metadata": {
        "colab": {
          "base_uri": "https://localhost:8080/"
        },
        "id": "6WVH3BblTUzN",
        "outputId": "c0b913bd-ea0f-4703-f847-fca7efd40cd6"
      },
      "execution_count": null,
      "outputs": [
        {
          "output_type": "execute_result",
          "data": {
            "text/plain": [
              "(1500, 500, 1500, 500)"
            ]
          },
          "metadata": {},
          "execution_count": 48
        }
      ]
    },
    {
      "cell_type": "markdown",
      "source": [
        "###6.2.Grid Search for Parameters"
      ],
      "metadata": {
        "id": "tO6D51jvTdDH"
      }
    },
    {
      "cell_type": "code",
      "source": [
        "parameters = {'C': np.linspace(0.0001, 100, 20)}\n",
        "grid_search = GridSearchCV(LogisticRegression(), parameters)\n",
        "grid_search.fit(train_features, train_labels)"
      ],
      "metadata": {
        "colab": {
          "base_uri": "https://localhost:8080/",
          "height": 118
        },
        "id": "rEc2IuMYTp6O",
        "outputId": "478f1cfd-5689-4bb9-f7ca-162b83cb8e61"
      },
      "execution_count": null,
      "outputs": [
        {
          "output_type": "execute_result",
          "data": {
            "text/plain": [
              "GridSearchCV(estimator=LogisticRegression(),\n",
              "             param_grid={'C': array([1.00000000e-04, 5.26325263e+00, 1.05264053e+01, 1.57895579e+01,\n",
              "       2.10527105e+01, 2.63158632e+01, 3.15790158e+01, 3.68421684e+01,\n",
              "       4.21053211e+01, 4.73684737e+01, 5.26316263e+01, 5.78947789e+01,\n",
              "       6.31579316e+01, 6.84210842e+01, 7.36842368e+01, 7.89473895e+01,\n",
              "       8.42105421e+01, 8.94736947e+01, 9.47368474e+01, 1.00000000e+02])})"
            ],
            "text/html": [
              "<style>#sk-container-id-2 {color: black;background-color: white;}#sk-container-id-2 pre{padding: 0;}#sk-container-id-2 div.sk-toggleable {background-color: white;}#sk-container-id-2 label.sk-toggleable__label {cursor: pointer;display: block;width: 100%;margin-bottom: 0;padding: 0.3em;box-sizing: border-box;text-align: center;}#sk-container-id-2 label.sk-toggleable__label-arrow:before {content: \"▸\";float: left;margin-right: 0.25em;color: #696969;}#sk-container-id-2 label.sk-toggleable__label-arrow:hover:before {color: black;}#sk-container-id-2 div.sk-estimator:hover label.sk-toggleable__label-arrow:before {color: black;}#sk-container-id-2 div.sk-toggleable__content {max-height: 0;max-width: 0;overflow: hidden;text-align: left;background-color: #f0f8ff;}#sk-container-id-2 div.sk-toggleable__content pre {margin: 0.2em;color: black;border-radius: 0.25em;background-color: #f0f8ff;}#sk-container-id-2 input.sk-toggleable__control:checked~div.sk-toggleable__content {max-height: 200px;max-width: 100%;overflow: auto;}#sk-container-id-2 input.sk-toggleable__control:checked~label.sk-toggleable__label-arrow:before {content: \"▾\";}#sk-container-id-2 div.sk-estimator input.sk-toggleable__control:checked~label.sk-toggleable__label {background-color: #d4ebff;}#sk-container-id-2 div.sk-label input.sk-toggleable__control:checked~label.sk-toggleable__label {background-color: #d4ebff;}#sk-container-id-2 input.sk-hidden--visually {border: 0;clip: rect(1px 1px 1px 1px);clip: rect(1px, 1px, 1px, 1px);height: 1px;margin: -1px;overflow: hidden;padding: 0;position: absolute;width: 1px;}#sk-container-id-2 div.sk-estimator {font-family: monospace;background-color: #f0f8ff;border: 1px dotted black;border-radius: 0.25em;box-sizing: border-box;margin-bottom: 0.5em;}#sk-container-id-2 div.sk-estimator:hover {background-color: #d4ebff;}#sk-container-id-2 div.sk-parallel-item::after {content: \"\";width: 100%;border-bottom: 1px solid gray;flex-grow: 1;}#sk-container-id-2 div.sk-label:hover label.sk-toggleable__label {background-color: #d4ebff;}#sk-container-id-2 div.sk-serial::before {content: \"\";position: absolute;border-left: 1px solid gray;box-sizing: border-box;top: 0;bottom: 0;left: 50%;z-index: 0;}#sk-container-id-2 div.sk-serial {display: flex;flex-direction: column;align-items: center;background-color: white;padding-right: 0.2em;padding-left: 0.2em;position: relative;}#sk-container-id-2 div.sk-item {position: relative;z-index: 1;}#sk-container-id-2 div.sk-parallel {display: flex;align-items: stretch;justify-content: center;background-color: white;position: relative;}#sk-container-id-2 div.sk-item::before, #sk-container-id-2 div.sk-parallel-item::before {content: \"\";position: absolute;border-left: 1px solid gray;box-sizing: border-box;top: 0;bottom: 0;left: 50%;z-index: -1;}#sk-container-id-2 div.sk-parallel-item {display: flex;flex-direction: column;z-index: 1;position: relative;background-color: white;}#sk-container-id-2 div.sk-parallel-item:first-child::after {align-self: flex-end;width: 50%;}#sk-container-id-2 div.sk-parallel-item:last-child::after {align-self: flex-start;width: 50%;}#sk-container-id-2 div.sk-parallel-item:only-child::after {width: 0;}#sk-container-id-2 div.sk-dashed-wrapped {border: 1px dashed gray;margin: 0 0.4em 0.5em 0.4em;box-sizing: border-box;padding-bottom: 0.4em;background-color: white;}#sk-container-id-2 div.sk-label label {font-family: monospace;font-weight: bold;display: inline-block;line-height: 1.2em;}#sk-container-id-2 div.sk-label-container {text-align: center;}#sk-container-id-2 div.sk-container {/* jupyter's `normalize.less` sets `[hidden] { display: none; }` but bootstrap.min.css set `[hidden] { display: none !important; }` so we also need the `!important` here to be able to override the default hidden behavior on the sphinx rendered scikit-learn.org. See: https://github.com/scikit-learn/scikit-learn/issues/21755 */display: inline-block !important;position: relative;}#sk-container-id-2 div.sk-text-repr-fallback {display: none;}</style><div id=\"sk-container-id-2\" class=\"sk-top-container\"><div class=\"sk-text-repr-fallback\"><pre>GridSearchCV(estimator=LogisticRegression(),\n",
              "             param_grid={&#x27;C&#x27;: array([1.00000000e-04, 5.26325263e+00, 1.05264053e+01, 1.57895579e+01,\n",
              "       2.10527105e+01, 2.63158632e+01, 3.15790158e+01, 3.68421684e+01,\n",
              "       4.21053211e+01, 4.73684737e+01, 5.26316263e+01, 5.78947789e+01,\n",
              "       6.31579316e+01, 6.84210842e+01, 7.36842368e+01, 7.89473895e+01,\n",
              "       8.42105421e+01, 8.94736947e+01, 9.47368474e+01, 1.00000000e+02])})</pre><b>In a Jupyter environment, please rerun this cell to show the HTML representation or trust the notebook. <br />On GitHub, the HTML representation is unable to render, please try loading this page with nbviewer.org.</b></div><div class=\"sk-container\" hidden><div class=\"sk-item sk-dashed-wrapped\"><div class=\"sk-label-container\"><div class=\"sk-label sk-toggleable\"><input class=\"sk-toggleable__control sk-hidden--visually\" id=\"sk-estimator-id-4\" type=\"checkbox\" ><label for=\"sk-estimator-id-4\" class=\"sk-toggleable__label sk-toggleable__label-arrow\">GridSearchCV</label><div class=\"sk-toggleable__content\"><pre>GridSearchCV(estimator=LogisticRegression(),\n",
              "             param_grid={&#x27;C&#x27;: array([1.00000000e-04, 5.26325263e+00, 1.05264053e+01, 1.57895579e+01,\n",
              "       2.10527105e+01, 2.63158632e+01, 3.15790158e+01, 3.68421684e+01,\n",
              "       4.21053211e+01, 4.73684737e+01, 5.26316263e+01, 5.78947789e+01,\n",
              "       6.31579316e+01, 6.84210842e+01, 7.36842368e+01, 7.89473895e+01,\n",
              "       8.42105421e+01, 8.94736947e+01, 9.47368474e+01, 1.00000000e+02])})</pre></div></div></div><div class=\"sk-parallel\"><div class=\"sk-parallel-item\"><div class=\"sk-item\"><div class=\"sk-label-container\"><div class=\"sk-label sk-toggleable\"><input class=\"sk-toggleable__control sk-hidden--visually\" id=\"sk-estimator-id-5\" type=\"checkbox\" ><label for=\"sk-estimator-id-5\" class=\"sk-toggleable__label sk-toggleable__label-arrow\">estimator: LogisticRegression</label><div class=\"sk-toggleable__content\"><pre>LogisticRegression()</pre></div></div></div><div class=\"sk-serial\"><div class=\"sk-item\"><div class=\"sk-estimator sk-toggleable\"><input class=\"sk-toggleable__control sk-hidden--visually\" id=\"sk-estimator-id-6\" type=\"checkbox\" ><label for=\"sk-estimator-id-6\" class=\"sk-toggleable__label sk-toggleable__label-arrow\">LogisticRegression</label><div class=\"sk-toggleable__content\"><pre>LogisticRegression()</pre></div></div></div></div></div></div></div></div></div></div>"
            ]
          },
          "metadata": {},
          "execution_count": 53
        }
      ]
    },
    {
      "cell_type": "code",
      "source": [
        "print('best parameters: ', grid_search.best_params_)\n",
        "print('best scrores: ', grid_search.best_score_)"
      ],
      "metadata": {
        "colab": {
          "base_uri": "https://localhost:8080/"
        },
        "id": "qWbhkjMNTvO6",
        "outputId": "457fe01f-d1a7-405b-f1e2-a5f4ec5c79c0"
      },
      "execution_count": null,
      "outputs": [
        {
          "output_type": "stream",
          "name": "stdout",
          "text": [
            "best parameters:  {'C': 5.263252631578947}\n",
            "best scrores:  0.8140000000000001\n"
          ]
        }
      ]
    },
    {
      "cell_type": "markdown",
      "source": [
        "###6.3.Fit the model and make prediction"
      ],
      "metadata": {
        "id": "dtuVexBGU9DK"
      }
    },
    {
      "cell_type": "code",
      "source": [
        "lr_clf = LogisticRegression(**grid_search.best_params_)\n",
        "lr_clf.fit(train_features, train_labels)"
      ],
      "metadata": {
        "colab": {
          "base_uri": "https://localhost:8080/",
          "height": 75
        },
        "id": "3CDd-wRpUbvq",
        "outputId": "c6d246f2-882f-4c55-bd2a-e66a3c09dc76"
      },
      "execution_count": null,
      "outputs": [
        {
          "output_type": "execute_result",
          "data": {
            "text/plain": [
              "LogisticRegression(C=5.263252631578947)"
            ],
            "text/html": [
              "<style>#sk-container-id-3 {color: black;background-color: white;}#sk-container-id-3 pre{padding: 0;}#sk-container-id-3 div.sk-toggleable {background-color: white;}#sk-container-id-3 label.sk-toggleable__label {cursor: pointer;display: block;width: 100%;margin-bottom: 0;padding: 0.3em;box-sizing: border-box;text-align: center;}#sk-container-id-3 label.sk-toggleable__label-arrow:before {content: \"▸\";float: left;margin-right: 0.25em;color: #696969;}#sk-container-id-3 label.sk-toggleable__label-arrow:hover:before {color: black;}#sk-container-id-3 div.sk-estimator:hover label.sk-toggleable__label-arrow:before {color: black;}#sk-container-id-3 div.sk-toggleable__content {max-height: 0;max-width: 0;overflow: hidden;text-align: left;background-color: #f0f8ff;}#sk-container-id-3 div.sk-toggleable__content pre {margin: 0.2em;color: black;border-radius: 0.25em;background-color: #f0f8ff;}#sk-container-id-3 input.sk-toggleable__control:checked~div.sk-toggleable__content {max-height: 200px;max-width: 100%;overflow: auto;}#sk-container-id-3 input.sk-toggleable__control:checked~label.sk-toggleable__label-arrow:before {content: \"▾\";}#sk-container-id-3 div.sk-estimator input.sk-toggleable__control:checked~label.sk-toggleable__label {background-color: #d4ebff;}#sk-container-id-3 div.sk-label input.sk-toggleable__control:checked~label.sk-toggleable__label {background-color: #d4ebff;}#sk-container-id-3 input.sk-hidden--visually {border: 0;clip: rect(1px 1px 1px 1px);clip: rect(1px, 1px, 1px, 1px);height: 1px;margin: -1px;overflow: hidden;padding: 0;position: absolute;width: 1px;}#sk-container-id-3 div.sk-estimator {font-family: monospace;background-color: #f0f8ff;border: 1px dotted black;border-radius: 0.25em;box-sizing: border-box;margin-bottom: 0.5em;}#sk-container-id-3 div.sk-estimator:hover {background-color: #d4ebff;}#sk-container-id-3 div.sk-parallel-item::after {content: \"\";width: 100%;border-bottom: 1px solid gray;flex-grow: 1;}#sk-container-id-3 div.sk-label:hover label.sk-toggleable__label {background-color: #d4ebff;}#sk-container-id-3 div.sk-serial::before {content: \"\";position: absolute;border-left: 1px solid gray;box-sizing: border-box;top: 0;bottom: 0;left: 50%;z-index: 0;}#sk-container-id-3 div.sk-serial {display: flex;flex-direction: column;align-items: center;background-color: white;padding-right: 0.2em;padding-left: 0.2em;position: relative;}#sk-container-id-3 div.sk-item {position: relative;z-index: 1;}#sk-container-id-3 div.sk-parallel {display: flex;align-items: stretch;justify-content: center;background-color: white;position: relative;}#sk-container-id-3 div.sk-item::before, #sk-container-id-3 div.sk-parallel-item::before {content: \"\";position: absolute;border-left: 1px solid gray;box-sizing: border-box;top: 0;bottom: 0;left: 50%;z-index: -1;}#sk-container-id-3 div.sk-parallel-item {display: flex;flex-direction: column;z-index: 1;position: relative;background-color: white;}#sk-container-id-3 div.sk-parallel-item:first-child::after {align-self: flex-end;width: 50%;}#sk-container-id-3 div.sk-parallel-item:last-child::after {align-self: flex-start;width: 50%;}#sk-container-id-3 div.sk-parallel-item:only-child::after {width: 0;}#sk-container-id-3 div.sk-dashed-wrapped {border: 1px dashed gray;margin: 0 0.4em 0.5em 0.4em;box-sizing: border-box;padding-bottom: 0.4em;background-color: white;}#sk-container-id-3 div.sk-label label {font-family: monospace;font-weight: bold;display: inline-block;line-height: 1.2em;}#sk-container-id-3 div.sk-label-container {text-align: center;}#sk-container-id-3 div.sk-container {/* jupyter's `normalize.less` sets `[hidden] { display: none; }` but bootstrap.min.css set `[hidden] { display: none !important; }` so we also need the `!important` here to be able to override the default hidden behavior on the sphinx rendered scikit-learn.org. See: https://github.com/scikit-learn/scikit-learn/issues/21755 */display: inline-block !important;position: relative;}#sk-container-id-3 div.sk-text-repr-fallback {display: none;}</style><div id=\"sk-container-id-3\" class=\"sk-top-container\"><div class=\"sk-text-repr-fallback\"><pre>LogisticRegression(C=5.263252631578947)</pre><b>In a Jupyter environment, please rerun this cell to show the HTML representation or trust the notebook. <br />On GitHub, the HTML representation is unable to render, please try loading this page with nbviewer.org.</b></div><div class=\"sk-container\" hidden><div class=\"sk-item\"><div class=\"sk-estimator sk-toggleable\"><input class=\"sk-toggleable__control sk-hidden--visually\" id=\"sk-estimator-id-7\" type=\"checkbox\" checked><label for=\"sk-estimator-id-7\" class=\"sk-toggleable__label sk-toggleable__label-arrow\">LogisticRegression</label><div class=\"sk-toggleable__content\"><pre>LogisticRegression(C=5.263252631578947)</pre></div></div></div></div></div>"
            ]
          },
          "metadata": {},
          "execution_count": 55
        }
      ]
    },
    {
      "cell_type": "code",
      "source": [
        "from sklearn.metrics import classification_report,accuracy_score\n",
        "test_pred=lr_clf.predict(test_features)\n",
        "print(classification_report(test_labels,test_pred))\n",
        "print(f'Accuracy: {accuracy_score(test_labels,test_pred)*100:.2f}%')"
      ],
      "metadata": {
        "colab": {
          "base_uri": "https://localhost:8080/"
        },
        "id": "cXvyj6orUjul",
        "outputId": "1d5a59a9-45b0-4fea-970f-5712d4b5fc56"
      },
      "execution_count": null,
      "outputs": [
        {
          "output_type": "stream",
          "name": "stdout",
          "text": [
            "              precision    recall  f1-score   support\n",
            "\n",
            "           0       0.85      0.79      0.82       243\n",
            "           1       0.82      0.87      0.84       257\n",
            "\n",
            "    accuracy                           0.83       500\n",
            "   macro avg       0.83      0.83      0.83       500\n",
            "weighted avg       0.83      0.83      0.83       500\n",
            "\n",
            "Accuracy: 83.20%\n"
          ]
        }
      ]
    },
    {
      "cell_type": "markdown",
      "source": [
        "For reference, the highest accuracy score for this dataset is currently 96.8. DistilBERT can be trained to improve its score on this task – a process called fine-tuning which updates BERT’s weights to make it achieve a better performance in this sentence classification task (which we can call the downstream task). The fine-tuned DistilBERT turns out to achieve an accuracy score of 90.7. The full size BERT model achieves 94.9.\n",
        "\n",
        "And that’s it! That’s a good first contact with BERT. The next step would be to head over to the documentation and try your hand at fine-tuning. You can also go back and switch from distilBERT to BERT and see how that works."
      ],
      "metadata": {
        "id": "7qDsdffhVT6N"
      }
    },
    {
      "cell_type": "markdown",
      "source": [
        "##7.Inference/Putting everything together"
      ],
      "metadata": {
        "id": "nUj-ceU0WUcX"
      }
    },
    {
      "cell_type": "code",
      "source": [
        "sentiment ={1:'positive',0:'negative'}"
      ],
      "metadata": {
        "id": "KreVF9rNZsuU"
      },
      "execution_count": null,
      "outputs": []
    },
    {
      "cell_type": "code",
      "source": [
        "def BERT_sentiment_analysis(text):\n",
        "  #Tokenize the text input\n",
        "  tokenized = tokenizer.encode(text,add_specical_tokens=True)\n",
        "  #Because we only take in one sentence so we don't need padding and mmasking\n",
        "  input_ids = torch.tensor(tokenized)\n",
        "  #Feed into the BERT model so we can get embedding vector\n",
        "  with torch.inference_mode():\n",
        "    last_hidden_states = model(input_ids.unsqueeze(0))\n",
        "  #For sentiment annalysis task we only need to take the embedding of the first token which is [CLS]\n",
        "  features = last_hidden_states[0][:,0,:].numpy()\n",
        "\n",
        "  #Feed into the second model LogisticRegression for classification\n",
        "  return lr_clf.predict(features)\n"
      ],
      "metadata": {
        "id": "JvhaztIBXbUz"
      },
      "execution_count": null,
      "outputs": []
    },
    {
      "cell_type": "code",
      "source": [
        "text =  'loving and joyful'\n",
        "sent = BERT_sentiment_analysis(text)\n",
        "print(text,':',sentiment[sent.item()])"
      ],
      "metadata": {
        "colab": {
          "base_uri": "https://localhost:8080/"
        },
        "id": "EMUpoZdTYuVK",
        "outputId": "7cd468e1-f82b-48ef-b5e7-2462bb18ffba"
      },
      "execution_count": null,
      "outputs": [
        {
          "output_type": "stream",
          "name": "stderr",
          "text": [
            "Keyword arguments {'add_specical_tokens': True} not recognized.\n"
          ]
        },
        {
          "output_type": "stream",
          "name": "stdout",
          "text": [
            "loving and joyful : positive\n"
          ]
        }
      ]
    },
    {
      "cell_type": "markdown",
      "source": [
        "#II.Text Classification"
      ],
      "metadata": {
        "id": "B15Ng0olYz4E"
      }
    },
    {
      "cell_type": "markdown",
      "source": [
        "##1.Import Basic Package"
      ],
      "metadata": {
        "id": "jBucOYOD8zOX"
      }
    },
    {
      "cell_type": "code",
      "source": [
        "import torch\n",
        "import torch.nn as nn\n",
        "from transformers import DistilBertForSequenceClassification, DistilBertTokenizer\n",
        "from transformers import get_linear_schedule_with_warmup, AdamW\n",
        "from torch.utils.data import TensorDataset, random_split, DataLoader, RandomSampler, SequentialSampler\n",
        "import time, datetime, random, re\n",
        "import pandas as pd\n",
        "import numpy as np\n",
        "from sklearn.metrics import accuracy_score, f1_score, precision_score, recall_score\n",
        "import matplotlib.pyplot as plt\n",
        "import seaborn as sns\n"
      ],
      "metadata": {
        "id": "BvEjqbD6--w1"
      },
      "execution_count": null,
      "outputs": []
    },
    {
      "cell_type": "markdown",
      "source": [
        "##2.Load and Preprocess Datasets"
      ],
      "metadata": {
        "id": "H05PbCPg_SDv"
      }
    },
    {
      "cell_type": "code",
      "source": [
        "from sklearn.datasets import fetch_20newsgroups"
      ],
      "metadata": {
        "id": "5O-7svqx_chP"
      },
      "execution_count": null,
      "outputs": []
    },
    {
      "cell_type": "code",
      "source": [
        "data=fetch_20newsgroups(\n",
        "            subset='all',\n",
        "            categories=['sci.crypt', 'sci.electronics', 'sci.med', 'sci.space'],\n",
        "            shuffle=False,\n",
        "            remove=('headers', 'footers', 'quotes'))"
      ],
      "metadata": {
        "id": "oP24LXBsQZzs"
      },
      "execution_count": null,
      "outputs": []
    },
    {
      "cell_type": "code",
      "source": [
        "target_names = data.target_names\n",
        "target_names"
      ],
      "metadata": {
        "colab": {
          "base_uri": "https://localhost:8080/"
        },
        "id": "p1nMuBa0hVHS",
        "outputId": "085e7e2c-fc43-43a9-dcd0-31c7d435de7c"
      },
      "execution_count": null,
      "outputs": [
        {
          "output_type": "execute_result",
          "data": {
            "text/plain": [
              "['sci.crypt', 'sci.electronics', 'sci.med', 'sci.space']"
            ]
          },
          "metadata": {},
          "execution_count": 4
        }
      ]
    },
    {
      "cell_type": "code",
      "source": [
        "len(data['data'])\n"
      ],
      "metadata": {
        "colab": {
          "base_uri": "https://localhost:8080/"
        },
        "id": "ucKrBuU_ArBo",
        "outputId": "1e66e892-e140-4033-c04f-964034b1bc67"
      },
      "execution_count": null,
      "outputs": [
        {
          "output_type": "execute_result",
          "data": {
            "text/plain": [
              "3952"
            ]
          },
          "metadata": {},
          "execution_count": 5
        }
      ]
    },
    {
      "cell_type": "code",
      "source": [
        "df = pd.DataFrame([data.data, data.target.tolist()]).T\n",
        "df.columns = ['text', 'target']"
      ],
      "metadata": {
        "id": "ES5ZuUjgA8bv"
      },
      "execution_count": null,
      "outputs": []
    },
    {
      "cell_type": "code",
      "source": [
        "df.head()"
      ],
      "metadata": {
        "colab": {
          "base_uri": "https://localhost:8080/",
          "height": 206
        },
        "id": "L1CisyC5A_vz",
        "outputId": "c0263106-64b6-4b21-ad08-e45a1b761545"
      },
      "execution_count": null,
      "outputs": [
        {
          "output_type": "execute_result",
          "data": {
            "text/plain": [
              "                                                text target\n",
              "0  Archive-name: cryptography-faq/part10\\nLast-mo...      0\n",
              "1  Does anyone on this newsgroup happen to know W...      2\n",
              "2  Hi,\\n\\tI am looking for some help in choosing ...      1\n",
              "3  Does anyone know of a non-word password genera...      0\n",
              "4  The system, or 'family', key would appear to b...      0"
            ],
            "text/html": [
              "\n",
              "  <div id=\"df-fefc1854-878b-4d07-9d1d-d8ace15d8320\" class=\"colab-df-container\">\n",
              "    <div>\n",
              "<style scoped>\n",
              "    .dataframe tbody tr th:only-of-type {\n",
              "        vertical-align: middle;\n",
              "    }\n",
              "\n",
              "    .dataframe tbody tr th {\n",
              "        vertical-align: top;\n",
              "    }\n",
              "\n",
              "    .dataframe thead th {\n",
              "        text-align: right;\n",
              "    }\n",
              "</style>\n",
              "<table border=\"1\" class=\"dataframe\">\n",
              "  <thead>\n",
              "    <tr style=\"text-align: right;\">\n",
              "      <th></th>\n",
              "      <th>text</th>\n",
              "      <th>target</th>\n",
              "    </tr>\n",
              "  </thead>\n",
              "  <tbody>\n",
              "    <tr>\n",
              "      <th>0</th>\n",
              "      <td>Archive-name: cryptography-faq/part10\\nLast-mo...</td>\n",
              "      <td>0</td>\n",
              "    </tr>\n",
              "    <tr>\n",
              "      <th>1</th>\n",
              "      <td>Does anyone on this newsgroup happen to know W...</td>\n",
              "      <td>2</td>\n",
              "    </tr>\n",
              "    <tr>\n",
              "      <th>2</th>\n",
              "      <td>Hi,\\n\\tI am looking for some help in choosing ...</td>\n",
              "      <td>1</td>\n",
              "    </tr>\n",
              "    <tr>\n",
              "      <th>3</th>\n",
              "      <td>Does anyone know of a non-word password genera...</td>\n",
              "      <td>0</td>\n",
              "    </tr>\n",
              "    <tr>\n",
              "      <th>4</th>\n",
              "      <td>The system, or 'family', key would appear to b...</td>\n",
              "      <td>0</td>\n",
              "    </tr>\n",
              "  </tbody>\n",
              "</table>\n",
              "</div>\n",
              "    <div class=\"colab-df-buttons\">\n",
              "\n",
              "  <div class=\"colab-df-container\">\n",
              "    <button class=\"colab-df-convert\" onclick=\"convertToInteractive('df-fefc1854-878b-4d07-9d1d-d8ace15d8320')\"\n",
              "            title=\"Convert this dataframe to an interactive table.\"\n",
              "            style=\"display:none;\">\n",
              "\n",
              "  <svg xmlns=\"http://www.w3.org/2000/svg\" height=\"24px\" viewBox=\"0 -960 960 960\">\n",
              "    <path d=\"M120-120v-720h720v720H120Zm60-500h600v-160H180v160Zm220 220h160v-160H400v160Zm0 220h160v-160H400v160ZM180-400h160v-160H180v160Zm440 0h160v-160H620v160ZM180-180h160v-160H180v160Zm440 0h160v-160H620v160Z\"/>\n",
              "  </svg>\n",
              "    </button>\n",
              "\n",
              "  <style>\n",
              "    .colab-df-container {\n",
              "      display:flex;\n",
              "      gap: 12px;\n",
              "    }\n",
              "\n",
              "    .colab-df-convert {\n",
              "      background-color: #E8F0FE;\n",
              "      border: none;\n",
              "      border-radius: 50%;\n",
              "      cursor: pointer;\n",
              "      display: none;\n",
              "      fill: #1967D2;\n",
              "      height: 32px;\n",
              "      padding: 0 0 0 0;\n",
              "      width: 32px;\n",
              "    }\n",
              "\n",
              "    .colab-df-convert:hover {\n",
              "      background-color: #E2EBFA;\n",
              "      box-shadow: 0px 1px 2px rgba(60, 64, 67, 0.3), 0px 1px 3px 1px rgba(60, 64, 67, 0.15);\n",
              "      fill: #174EA6;\n",
              "    }\n",
              "\n",
              "    .colab-df-buttons div {\n",
              "      margin-bottom: 4px;\n",
              "    }\n",
              "\n",
              "    [theme=dark] .colab-df-convert {\n",
              "      background-color: #3B4455;\n",
              "      fill: #D2E3FC;\n",
              "    }\n",
              "\n",
              "    [theme=dark] .colab-df-convert:hover {\n",
              "      background-color: #434B5C;\n",
              "      box-shadow: 0px 1px 3px 1px rgba(0, 0, 0, 0.15);\n",
              "      filter: drop-shadow(0px 1px 2px rgba(0, 0, 0, 0.3));\n",
              "      fill: #FFFFFF;\n",
              "    }\n",
              "  </style>\n",
              "\n",
              "    <script>\n",
              "      const buttonEl =\n",
              "        document.querySelector('#df-fefc1854-878b-4d07-9d1d-d8ace15d8320 button.colab-df-convert');\n",
              "      buttonEl.style.display =\n",
              "        google.colab.kernel.accessAllowed ? 'block' : 'none';\n",
              "\n",
              "      async function convertToInteractive(key) {\n",
              "        const element = document.querySelector('#df-fefc1854-878b-4d07-9d1d-d8ace15d8320');\n",
              "        const dataTable =\n",
              "          await google.colab.kernel.invokeFunction('convertToInteractive',\n",
              "                                                    [key], {});\n",
              "        if (!dataTable) return;\n",
              "\n",
              "        const docLinkHtml = 'Like what you see? Visit the ' +\n",
              "          '<a target=\"_blank\" href=https://colab.research.google.com/notebooks/data_table.ipynb>data table notebook</a>'\n",
              "          + ' to learn more about interactive tables.';\n",
              "        element.innerHTML = '';\n",
              "        dataTable['output_type'] = 'display_data';\n",
              "        await google.colab.output.renderOutput(dataTable, element);\n",
              "        const docLink = document.createElement('div');\n",
              "        docLink.innerHTML = docLinkHtml;\n",
              "        element.appendChild(docLink);\n",
              "      }\n",
              "    </script>\n",
              "  </div>\n",
              "\n",
              "\n",
              "<div id=\"df-28c4e0ef-ab99-4a63-a61e-0399b66b0f5b\">\n",
              "  <button class=\"colab-df-quickchart\" onclick=\"quickchart('df-28c4e0ef-ab99-4a63-a61e-0399b66b0f5b')\"\n",
              "            title=\"Suggest charts\"\n",
              "            style=\"display:none;\">\n",
              "\n",
              "<svg xmlns=\"http://www.w3.org/2000/svg\" height=\"24px\"viewBox=\"0 0 24 24\"\n",
              "     width=\"24px\">\n",
              "    <g>\n",
              "        <path d=\"M19 3H5c-1.1 0-2 .9-2 2v14c0 1.1.9 2 2 2h14c1.1 0 2-.9 2-2V5c0-1.1-.9-2-2-2zM9 17H7v-7h2v7zm4 0h-2V7h2v10zm4 0h-2v-4h2v4z\"/>\n",
              "    </g>\n",
              "</svg>\n",
              "  </button>\n",
              "\n",
              "<style>\n",
              "  .colab-df-quickchart {\n",
              "      --bg-color: #E8F0FE;\n",
              "      --fill-color: #1967D2;\n",
              "      --hover-bg-color: #E2EBFA;\n",
              "      --hover-fill-color: #174EA6;\n",
              "      --disabled-fill-color: #AAA;\n",
              "      --disabled-bg-color: #DDD;\n",
              "  }\n",
              "\n",
              "  [theme=dark] .colab-df-quickchart {\n",
              "      --bg-color: #3B4455;\n",
              "      --fill-color: #D2E3FC;\n",
              "      --hover-bg-color: #434B5C;\n",
              "      --hover-fill-color: #FFFFFF;\n",
              "      --disabled-bg-color: #3B4455;\n",
              "      --disabled-fill-color: #666;\n",
              "  }\n",
              "\n",
              "  .colab-df-quickchart {\n",
              "    background-color: var(--bg-color);\n",
              "    border: none;\n",
              "    border-radius: 50%;\n",
              "    cursor: pointer;\n",
              "    display: none;\n",
              "    fill: var(--fill-color);\n",
              "    height: 32px;\n",
              "    padding: 0;\n",
              "    width: 32px;\n",
              "  }\n",
              "\n",
              "  .colab-df-quickchart:hover {\n",
              "    background-color: var(--hover-bg-color);\n",
              "    box-shadow: 0 1px 2px rgba(60, 64, 67, 0.3), 0 1px 3px 1px rgba(60, 64, 67, 0.15);\n",
              "    fill: var(--button-hover-fill-color);\n",
              "  }\n",
              "\n",
              "  .colab-df-quickchart-complete:disabled,\n",
              "  .colab-df-quickchart-complete:disabled:hover {\n",
              "    background-color: var(--disabled-bg-color);\n",
              "    fill: var(--disabled-fill-color);\n",
              "    box-shadow: none;\n",
              "  }\n",
              "\n",
              "  .colab-df-spinner {\n",
              "    border: 2px solid var(--fill-color);\n",
              "    border-color: transparent;\n",
              "    border-bottom-color: var(--fill-color);\n",
              "    animation:\n",
              "      spin 1s steps(1) infinite;\n",
              "  }\n",
              "\n",
              "  @keyframes spin {\n",
              "    0% {\n",
              "      border-color: transparent;\n",
              "      border-bottom-color: var(--fill-color);\n",
              "      border-left-color: var(--fill-color);\n",
              "    }\n",
              "    20% {\n",
              "      border-color: transparent;\n",
              "      border-left-color: var(--fill-color);\n",
              "      border-top-color: var(--fill-color);\n",
              "    }\n",
              "    30% {\n",
              "      border-color: transparent;\n",
              "      border-left-color: var(--fill-color);\n",
              "      border-top-color: var(--fill-color);\n",
              "      border-right-color: var(--fill-color);\n",
              "    }\n",
              "    40% {\n",
              "      border-color: transparent;\n",
              "      border-right-color: var(--fill-color);\n",
              "      border-top-color: var(--fill-color);\n",
              "    }\n",
              "    60% {\n",
              "      border-color: transparent;\n",
              "      border-right-color: var(--fill-color);\n",
              "    }\n",
              "    80% {\n",
              "      border-color: transparent;\n",
              "      border-right-color: var(--fill-color);\n",
              "      border-bottom-color: var(--fill-color);\n",
              "    }\n",
              "    90% {\n",
              "      border-color: transparent;\n",
              "      border-bottom-color: var(--fill-color);\n",
              "    }\n",
              "  }\n",
              "</style>\n",
              "\n",
              "  <script>\n",
              "    async function quickchart(key) {\n",
              "      const quickchartButtonEl =\n",
              "        document.querySelector('#' + key + ' button');\n",
              "      quickchartButtonEl.disabled = true;  // To prevent multiple clicks.\n",
              "      quickchartButtonEl.classList.add('colab-df-spinner');\n",
              "      try {\n",
              "        const charts = await google.colab.kernel.invokeFunction(\n",
              "            'suggestCharts', [key], {});\n",
              "      } catch (error) {\n",
              "        console.error('Error during call to suggestCharts:', error);\n",
              "      }\n",
              "      quickchartButtonEl.classList.remove('colab-df-spinner');\n",
              "      quickchartButtonEl.classList.add('colab-df-quickchart-complete');\n",
              "    }\n",
              "    (() => {\n",
              "      let quickchartButtonEl =\n",
              "        document.querySelector('#df-28c4e0ef-ab99-4a63-a61e-0399b66b0f5b button');\n",
              "      quickchartButtonEl.style.display =\n",
              "        google.colab.kernel.accessAllowed ? 'block' : 'none';\n",
              "    })();\n",
              "  </script>\n",
              "</div>\n",
              "\n",
              "    </div>\n",
              "  </div>\n"
            ],
            "application/vnd.google.colaboratory.intrinsic+json": {
              "type": "dataframe",
              "variable_name": "df",
              "summary": "{\n  \"name\": \"df\",\n  \"rows\": 3952,\n  \"fields\": [\n    {\n      \"column\": \"text\",\n      \"properties\": {\n        \"dtype\": \"string\",\n        \"num_unique_values\": 3835,\n        \"samples\": [\n          \"\\n\\n\\n\\n\\n\\n As far as I can see if your obstetrition has an ultrasound in his rooms\\nand is expirienced its use and interpretation, he should be just as\\ncapable of reading it as any radiologist. All doctors are \\\"qualified\\\" to\\nread x-rays, u/s, ct scans etc. it is just that a radiologist does nothing\\nelse, and thus, is only better at reading them because of all this time\\nspent doing this (skill in reading x-rays etc. just comes from plenty of\\npractice). If your obstetrition reads heaps of obstetric ultrasounds he\\nshould be able to pick up any abnormalities that can be demonstrated by\\nthis technique.\\n\\n- Paul.\\n\\n\",\n          \"Hi,\\n\\tI'm an avid dieter and the new miracle drug seems to involve thermo-\\ngenics. The drug is claimed to stimulate the brown fat to burn food \\ncreating eat as opposed to the fat being stored. There are all sorts of\\nwarnings about fevers, elevated blood pressure and heart rate, ect..\\n\\tThe silver lining is that apparently some weight loss does not \\nrequire a change in diet. Is this possible? Are the pills dangerous or just\\nhoaxes?\",\n          \"Reply address: mark.prado@permanet.org\\n\\nIf anyone knows anyone else who would like to get sci.space,\\nbut doesn't have an Internet feed (or has a cryptic Internet\\nfeed), I would be willing to feed it to them.  I have a nice\\noffline message reader/editor, an automated modem \\\"mailer\\\"\\nprogram which will pick up mail bundles (quickly and easily),\\nand an INSTALL.EXE to set them up painlessly.  No charge for\\nthe sci.space feed, though you have to dial Washington, D.C.\\nThis is NOT a BBS -- it's a store & forward system for mail\\nbundles, with minimum connect times.  (I'm used to overseas\\ncalls.)  (This is not an offer for a free feed for any other\\nparticular newsgroups.)  Speeds of up to 14400 (v32bis) are\\nsupported.  VIP's might be offered other free services, such\\nas Internet address and other functionality.\\n\\nI get my feed from UUNET and run a 4-line hub.  I've been\\nhubbing for years -- I have an extremely reliable hub.\\n\\nThe software I provide runs under MS-DOS (and OS/2 and Windows\\nas a DOS box).  Other, compatible software packages exist for\\nthe MacIntosh and Unix.\\n\\nAny responses should be private and go to:  \\nmark.prado@permanet.org\\n\\n(By the way, to all, my apologies for the public traffic on my\\nglib question.  I really didn't expect public replys.  But thanks\\nto Bill Higgins for the interesting statistics and the lead.)\"\n        ],\n        \"semantic_type\": \"\",\n        \"description\": \"\"\n      }\n    },\n    {\n      \"column\": \"target\",\n      \"properties\": {\n        \"dtype\": \"date\",\n        \"min\": 0,\n        \"max\": 3,\n        \"num_unique_values\": 4,\n        \"samples\": [\n          2,\n          3,\n          0\n        ],\n        \"semantic_type\": \"\",\n        \"description\": \"\"\n      }\n    }\n  ]\n}"
            }
          },
          "metadata": {},
          "execution_count": 7
        }
      ]
    },
    {
      "cell_type": "code",
      "source": [
        "# remove excess white spaces\n",
        "df['text'] = df['text'].apply(lambda x: \" \".join(x.split()))\n",
        "\n",
        "# remove excess spaces near punctuation\n",
        "df['text'] = df['text'].apply(lambda x: re.sub(r'\\s([?.!\"](?:\\s|$))', r'\\1', x))"
      ],
      "metadata": {
        "id": "SwT4V5HhBCos"
      },
      "execution_count": null,
      "outputs": []
    },
    {
      "cell_type": "markdown",
      "source": [
        "##3.Tokenize the Data"
      ],
      "metadata": {
        "id": "MC6vQwliBTq7"
      }
    },
    {
      "cell_type": "code",
      "source": [
        "# instantiate BERT tokenizer with upper + lower case\n",
        "tokenizer = DistilBertTokenizer.from_pretrained('distilbert-base-cased')"
      ],
      "metadata": {
        "id": "ko3cRjWJB8oD",
        "colab": {
          "base_uri": "https://localhost:8080/"
        },
        "outputId": "e1ee8210-8d77-4b73-b8a4-ffa89be682b3"
      },
      "execution_count": null,
      "outputs": [
        {
          "output_type": "stream",
          "name": "stderr",
          "text": [
            "/usr/local/lib/python3.10/dist-packages/huggingface_hub/utils/_token.py:88: UserWarning: \n",
            "The secret `HF_TOKEN` does not exist in your Colab secrets.\n",
            "To authenticate with the Hugging Face Hub, create a token in your settings tab (https://huggingface.co/settings/tokens), set it as secret in your Google Colab and restart your session.\n",
            "You will be able to reuse this secret in all of your notebooks.\n",
            "Please note that authentication is recommended but still optional to access public models or datasets.\n",
            "  warnings.warn(\n"
          ]
        }
      ]
    },
    {
      "cell_type": "code",
      "source": [
        "def tokenize_corpus(df, tokenizer, max_len):\n",
        "    # max len -- 512 is max\n",
        "    max_len = max_len\n",
        "    # for every document:\n",
        "\n",
        "    # `encode_plus` will:\n",
        "    #   (1) Tokenize the sentence.\n",
        "    #   (2) Prepend the `[CLS]` token to the start.\n",
        "    #   (3) Append the `[SEP]` token to the end.\n",
        "    #   (4) Map tokens to their IDs.\n",
        "    #   (5) Pad or truncate the sentence to `max_length`\n",
        "    #   (6) Create attention masks for [PAD] tokens.\n",
        "    encoded_dict = tokenizer.encode_plus(\n",
        "                        df,  # document to encode.\n",
        "                        add_special_tokens=True,  # add '[CLS]' and '[SEP]'\n",
        "                        max_length=max_len,  # set max length\n",
        "                        truncation=True,  # truncate longer messages\n",
        "                        padding='max_length',  # add padding\n",
        "                        return_attention_mask=True,  # create attn. masks\n",
        "                    )\n",
        "\n",
        "    # add the tokenized sentence to the list\n",
        "    input_ids=encoded_dict['input_ids']\n",
        "\n",
        "    # and its attention mask (differentiates padding from non-padding)\n",
        "    attention_masks=encoded_dict['attention_mask']\n",
        "\n",
        "    return torch.tensor(input_ids), torch.tensor(attention_masks)"
      ],
      "metadata": {
        "id": "nlxWC9L9B_Qh"
      },
      "execution_count": null,
      "outputs": []
    },
    {
      "cell_type": "code",
      "source": [
        "# Create tokenized data\n",
        "tokenized_data = df['text'].apply(lambda x: tokenize_corpus(x, tokenizer, 512))\n",
        "\n",
        "# Unpack tokenized_data into input_ids and attention_masks\n",
        "input_ids, attention_masks = zip(*tokenized_data)"
      ],
      "metadata": {
        "id": "Ugb22ev_CUj7"
      },
      "execution_count": null,
      "outputs": []
    },
    {
      "cell_type": "markdown",
      "source": [
        "Bacause `input_ids` and `attention_masks` are tuples so we need to convert them into tensor by using `stack()`"
      ],
      "metadata": {
        "id": "fUpAxrerJNTo"
      }
    },
    {
      "cell_type": "code",
      "source": [
        "input_ids = torch.stack(input_ids)\n",
        "attention_masks=torch.stack(attention_masks)\n",
        "input_ids.shape,attention_masks.shape"
      ],
      "metadata": {
        "colab": {
          "base_uri": "https://localhost:8080/"
        },
        "id": "OA6DlZ-ZCYEw",
        "outputId": "7df5b937-7ad5-4dce-99f3-031f3f875ea4"
      },
      "execution_count": null,
      "outputs": [
        {
          "output_type": "execute_result",
          "data": {
            "text/plain": [
              "(torch.Size([3952, 512]), torch.Size([3952, 512]))"
            ]
          },
          "metadata": {},
          "execution_count": 12
        }
      ]
    },
    {
      "cell_type": "code",
      "source": [
        "# convert the labels into tensors.\n",
        "labels = torch.tensor(df['target'].values.astype(np.float32))"
      ],
      "metadata": {
        "id": "iZnEJIvOCgip"
      },
      "execution_count": null,
      "outputs": []
    },
    {
      "cell_type": "code",
      "source": [
        "labels.shape"
      ],
      "metadata": {
        "colab": {
          "base_uri": "https://localhost:8080/"
        },
        "id": "VS5NA9UtJcgY",
        "outputId": "21461954-ba34-446e-a4bb-f3ef56c6bc0e"
      },
      "execution_count": null,
      "outputs": [
        {
          "output_type": "execute_result",
          "data": {
            "text/plain": [
              "torch.Size([3952])"
            ]
          },
          "metadata": {},
          "execution_count": 14
        }
      ]
    },
    {
      "cell_type": "markdown",
      "source": [
        "##4.Split Dataset and feed into DataLoader"
      ],
      "metadata": {
        "id": "sKHAY-qCJ2uN"
      }
    },
    {
      "cell_type": "code",
      "source": [
        "# prepare tensor data sets\n",
        "def prepare_dataset(padded_tokens, attention_masks, target):\n",
        "    # prepare target into np array\n",
        "    target = np.array(target.values, dtype=np.int64).reshape(-1, 1)\n",
        "    # create tensor data sets\n",
        "    tensor_df = TensorDataset(padded_tokens, attention_masks, torch.from_numpy(target))\n",
        "    # 80% of df\n",
        "    train_size = int(0.8 * len(df))\n",
        "    # 20% of df\n",
        "    val_size = len(df) - train_size\n",
        "    # 50% of validation\n",
        "    test_size = int(val_size - 0.5*val_size)\n",
        "    # divide the dataset by randomly selecting samples\n",
        "    train_dataset, val_dataset = random_split(tensor_df, [train_size, val_size])\n",
        "    # divide validation by randomly selecting samples\n",
        "    val_dataset, test_dataset = random_split(val_dataset, [test_size, test_size+1])\n",
        "\n",
        "    return train_dataset, val_dataset, test_dataset"
      ],
      "metadata": {
        "id": "J5RZ0WjbKtRL"
      },
      "execution_count": null,
      "outputs": []
    },
    {
      "cell_type": "code",
      "source": [
        "# create tenor data sets\n",
        "train_dataset, val_dataset, test_dataset = prepare_dataset(input_ids,\n",
        "                                                           attention_masks,\n",
        "                                                           df['target'])"
      ],
      "metadata": {
        "id": "JxEZNYiEKyAo"
      },
      "execution_count": null,
      "outputs": []
    },
    {
      "cell_type": "code",
      "source": [
        "len(train_dataset),len(val_dataset),len(test_dataset)"
      ],
      "metadata": {
        "colab": {
          "base_uri": "https://localhost:8080/"
        },
        "id": "Sq8vV-j4LJA3",
        "outputId": "c984a77d-1a7b-4edd-9708-12595e39daf3"
      },
      "execution_count": null,
      "outputs": [
        {
          "output_type": "execute_result",
          "data": {
            "text/plain": [
              "(3161, 395, 396)"
            ]
          },
          "metadata": {},
          "execution_count": 17
        }
      ]
    },
    {
      "cell_type": "code",
      "source": [
        "# create DataLoaders with samplers\n",
        "train_dataloader = DataLoader(train_dataset,\n",
        "                              batch_size=32,\n",
        "                              shuffle=False)\n",
        "\n",
        "valid_dataloader = DataLoader(val_dataset,\n",
        "                              batch_size=32,\n",
        "                              shuffle=True)\n",
        "\n",
        "test_dataloader = DataLoader(test_dataset,\n",
        "                              batch_size=32,\n",
        "                              shuffle=True)"
      ],
      "metadata": {
        "id": "GzxbAcsSK1wr"
      },
      "execution_count": null,
      "outputs": []
    },
    {
      "cell_type": "code",
      "source": [
        "len(train_dataloader),len(valid_dataloader),len(test_dataloader)"
      ],
      "metadata": {
        "colab": {
          "base_uri": "https://localhost:8080/"
        },
        "id": "cUz6m8DsK7tb",
        "outputId": "02c60c4f-4ee4-43ac-c111-dd0b3b4b0d6c"
      },
      "execution_count": null,
      "outputs": [
        {
          "output_type": "execute_result",
          "data": {
            "text/plain": [
              "(99, 13, 13)"
            ]
          },
          "metadata": {},
          "execution_count": 19
        }
      ]
    },
    {
      "cell_type": "markdown",
      "source": [
        "##5.Prepare Train, Validation and Testing Functions"
      ],
      "metadata": {
        "id": "rhx5x8d6LID2"
      }
    },
    {
      "cell_type": "code",
      "source": [
        "device = 'cuda' if torch.cuda.is_available() else 'cpu'\n",
        "device"
      ],
      "metadata": {
        "colab": {
          "base_uri": "https://localhost:8080/",
          "height": 35
        },
        "id": "YTPQb4BbPUm7",
        "outputId": "c4067b49-80cd-47f6-cdde-852fe84b3378"
      },
      "execution_count": null,
      "outputs": [
        {
          "output_type": "execute_result",
          "data": {
            "text/plain": [
              "'cuda'"
            ],
            "application/vnd.google.colaboratory.intrinsic+json": {
              "type": "string"
            }
          },
          "metadata": {},
          "execution_count": 20
        }
      ]
    },
    {
      "cell_type": "code",
      "source": [
        "def train(model, dataloader, optimizer,device):\n",
        "  # Perform one full pass over the training set.\n",
        "  print(\"\")\n",
        "  print('======== Epoch {:} / {:} ========'.format(epoch + 1, epochs))\n",
        "  print('Training...')\n",
        "\n",
        "  # reset total loss for epoch\n",
        "  train_total_loss = 0\n",
        "  total_train_acc = 0\n",
        "\n",
        "  # put model into traning mode\n",
        "  model.train()\n",
        "  # for each batch of training data...\n",
        "  for step, batch in enumerate(dataloader):\n",
        "\n",
        "      # progress update every 40 batches.\n",
        "      if step % 40 == 0 and not step == 0:\n",
        "\n",
        "          # Report progress.\n",
        "          print('  Batch {:>5,}  of  {:>5,}.'.format(step, len(dataloader)))\n",
        "\n",
        "      # Unpack this training batch from our dataloader:\n",
        "      #\n",
        "      # As we unpack the batch, we'll also copy each tensor to the GPU using\n",
        "      # the `to` method.\n",
        "      #\n",
        "      # `batch` contains three pytorch tensors:\n",
        "      #   [0]: input ids\n",
        "      #   [1]: attention masks\n",
        "      #   [2]: labels\n",
        "      b_input_ids = batch[0].to(device)\n",
        "      b_input_mask = batch[1].to(device)\n",
        "      b_labels = batch[2].long().to(device)\n",
        "\n",
        "      # forward propagation (evaluate model on training batch)\n",
        "      outputs = model(input_ids=b_input_ids,\n",
        "                            attention_mask=b_input_mask,\n",
        "                            labels=b_labels)\n",
        "      loss = outputs.loss\n",
        "      logits = outputs.logits\n",
        "      # sum the training loss over all batches for average loss at end\n",
        "      # loss is a tensor containing a single value\n",
        "      train_total_loss += loss.item()\n",
        "\n",
        "      # clear previously calculated gradients\n",
        "      optimizer.zero_grad()\n",
        "\n",
        "      loss.backward()\n",
        "\n",
        "      optimizer.step()\n",
        "\n",
        "      # move logits and labels to CPU\n",
        "      logits = logits.detach().cpu().numpy()\n",
        "      y_true = b_labels.detach().cpu().numpy()\n",
        "\n",
        "      # calculate preds\n",
        "      rounded_preds = np.argmax(logits, axis=1).flatten()\n",
        "\n",
        "      # calculate accuracy\n",
        "      total_train_acc += accuracy_score(rounded_preds, y_true)\n",
        "\n",
        "\n",
        "  # calculate the average loss over all of the batches\n",
        "  avg_train_loss = train_total_loss / len(dataloader)\n",
        "\n",
        "  # calculate the average f1 over all of the batches\n",
        "  avg_train_acc = total_train_acc / len(dataloader)\n",
        "\n",
        "  # Record all statistics from this epoch.\n",
        "  training_stats.append(\n",
        "      {\n",
        "          'Train Loss': avg_train_loss,\n",
        "          'Train Acc': avg_train_acc\n",
        "      }\n",
        "  )\n",
        "  # print result summaries\n",
        "  print(\"\")\n",
        "  print(\"summary results\")\n",
        "  print(\"epoch | trn loss | trn acc \")\n",
        "  print(f\"{epoch+1:5d} | {avg_train_loss:.5f} | {avg_train_acc:.5f} | \")\n",
        "\n",
        "\n"
      ],
      "metadata": {
        "id": "72ign5C3LkzF"
      },
      "execution_count": null,
      "outputs": []
    },
    {
      "cell_type": "code",
      "source": [
        "def validating(model, dataloader,device):\n",
        "\n",
        "\n",
        "    # After the completion of each training epoch, measure our performance on\n",
        "    # our validation set.\n",
        "    print(\"\")\n",
        "    print(\"Running Validation...\")\n",
        "\n",
        "    # put the model in evaluation mode\n",
        "    model.eval()\n",
        "\n",
        "    # track variables\n",
        "    total_valid_accuracy = 0\n",
        "    total_valid_loss = 0\n",
        "\n",
        "    # evaluate data for one epoch\n",
        "    for batch in dataloader:\n",
        "\n",
        "        # Unpack this training batch from our dataloader:\n",
        "        # `batch` contains three pytorch tensors:\n",
        "        #   [0]: input ids\n",
        "        #   [1]: attention masks\n",
        "        #   [2]: labels\n",
        "        b_input_ids = batch[0].to(device)\n",
        "        b_input_mask = batch[1].to(device)\n",
        "        b_labels = batch[2].long().to(device)\n",
        "\n",
        "        # tell pytorch not to bother calculating gradients\n",
        "        # as its only necessary for training\n",
        "        with torch.inference_mode():\n",
        "\n",
        "            # forward propagation (evaluate model on training batch)\n",
        "            outputs = model(input_ids=b_input_ids,\n",
        "                                 attention_mask=b_input_mask,\n",
        "                                 labels=b_labels)\n",
        "            logits=outputs.logits\n",
        "            loss=outputs.loss\n",
        "\n",
        "        # accumulate validation loss\n",
        "        total_valid_loss += loss.item()\n",
        "\n",
        "        # move logits and labels to CPU\n",
        "        logits = logits.detach().cpu().numpy()\n",
        "        y_true = b_labels.detach().cpu().numpy()\n",
        "\n",
        "        # calculate preds\n",
        "        rounded_preds = np.argmax(logits, axis=1).flatten()\n",
        "\n",
        "        # calculate accuracy\n",
        "        total_valid_accuracy += accuracy_score(rounded_preds, y_true)\n",
        "\n",
        "    # report final accuracy of validation run\n",
        "    avg_accuracy = total_valid_accuracy / len(dataloader)\n",
        "\n",
        "    avg_val_loss = total_valid_loss / len(dataloader)\n",
        "\n",
        "    # Record all statistics from this epoch.\n",
        "    valid_stats.append(\n",
        "        {\n",
        "            'Val Loss': avg_val_loss,\n",
        "            'Val Accur.': avg_accuracy,\n",
        "        }\n",
        "    )\n",
        "\n",
        "\n",
        "    # print result summaries\n",
        "    print(\"\")\n",
        "    print(\"summary results\")\n",
        "    print(\"epoch | val loss | val acc\")\n",
        "    print(f\"{epoch+1:5d} | {avg_val_loss:.5f} | {avg_accuracy:.5f}\")\n"
      ],
      "metadata": {
        "id": "gdTCaaaXZf4M"
      },
      "execution_count": null,
      "outputs": []
    },
    {
      "cell_type": "code",
      "source": [
        "def testing(model, dataloader,device):\n",
        "\n",
        "\n",
        "    # After the completion of each training epoch, measure our performance on\n",
        "    # our validation set.\n",
        "    print(\"\")\n",
        "    print(\"Running Testing...\")\n",
        "\n",
        "    # put the model in evaluation mode\n",
        "    model.eval()\n",
        "\n",
        "    # track variables\n",
        "    total_test_accuracy = 0\n",
        "    total_test_loss = 0\n",
        "\n",
        "    # evaluate data for one epoch\n",
        "    for batch in dataloader:\n",
        "\n",
        "        # Unpack this training batch from our dataloader:\n",
        "        # `batch` contains three pytorch tensors:\n",
        "        #   [0]: input ids\n",
        "        #   [1]: attention masks\n",
        "        #   [2]: labels\n",
        "        b_input_ids = batch[0].to(device)\n",
        "        b_input_mask = batch[1].to(device)\n",
        "        b_labels = batch[2].long().to(device)\n",
        "\n",
        "        # tell pytorch not to bother calculating gradients\n",
        "        # as its only necessary for training\n",
        "        with torch.inference_mode():\n",
        "\n",
        "            # forward propagation (evaluate model on training batch)\n",
        "            outputs = model(input_ids=b_input_ids,\n",
        "                                 attention_mask=b_input_mask,\n",
        "                                 labels=b_labels)\n",
        "            logits=outputs.logits\n",
        "            loss=outputs.loss\n",
        "\n",
        "        # accumulate validation loss\n",
        "        total_test_loss += loss.item()\n",
        "\n",
        "        # move logits and labels to CPU\n",
        "        logits = logits.detach().cpu().numpy()\n",
        "        y_true = b_labels.detach().cpu().numpy()\n",
        "\n",
        "        # calculate preds\n",
        "        rounded_preds = np.argmax(logits, axis=1).flatten()\n",
        "\n",
        "        # calculate accuracy\n",
        "        total_test_accuracy += accuracy_score(rounded_preds, y_true)\n",
        "\n",
        "    # report final accuracy of validation run\n",
        "    avg_accuracy = total_test_accuracy / len(dataloader)\n",
        "\n",
        "    avg_test_loss = total_test_loss / len(dataloader)\n",
        "\n",
        "    # Record all statistics from this epoch.\n",
        "    test_stats.append(\n",
        "        {\n",
        "            'Val Loss': avg_test_loss,\n",
        "            'Val Accur.': avg_accuracy,\n",
        "        }\n",
        "    )\n",
        "\n",
        "\n"
      ],
      "metadata": {
        "id": "gC4wXjBgf4uF"
      },
      "execution_count": null,
      "outputs": []
    },
    {
      "cell_type": "markdown",
      "source": [
        "##6.Load the pretrain DistilBert model"
      ],
      "metadata": {
        "id": "NOoAKtFwlTej"
      }
    },
    {
      "cell_type": "code",
      "source": [
        "# Load DistilBERT with a single a single linear classification layer\n",
        "model = DistilBertForSequenceClassification.from_pretrained(\n",
        "    \"distilbert-base-cased\",\n",
        "    num_labels=4).to(device)"
      ],
      "metadata": {
        "colab": {
          "base_uri": "https://localhost:8080/"
        },
        "id": "ml_pcoNzOyGu",
        "outputId": "0a8ea0eb-d356-4e21-eff4-9d6fbb1e8868"
      },
      "execution_count": null,
      "outputs": [
        {
          "output_type": "stream",
          "name": "stderr",
          "text": [
            "Some weights of DistilBertForSequenceClassification were not initialized from the model checkpoint at distilbert-base-cased and are newly initialized: ['classifier.bias', 'classifier.weight', 'pre_classifier.bias', 'pre_classifier.weight']\n",
            "You should probably TRAIN this model on a down-stream task to be able to use it for predictions and inference.\n"
          ]
        }
      ]
    },
    {
      "cell_type": "code",
      "source": [
        "model"
      ],
      "metadata": {
        "colab": {
          "base_uri": "https://localhost:8080/"
        },
        "id": "t_0k3HLWap6a",
        "outputId": "95766a66-b5ba-42b9-d3ac-d3b02234e12c"
      },
      "execution_count": null,
      "outputs": [
        {
          "output_type": "execute_result",
          "data": {
            "text/plain": [
              "DistilBertForSequenceClassification(\n",
              "  (distilbert): DistilBertModel(\n",
              "    (embeddings): Embeddings(\n",
              "      (word_embeddings): Embedding(28996, 768, padding_idx=0)\n",
              "      (position_embeddings): Embedding(512, 768)\n",
              "      (LayerNorm): LayerNorm((768,), eps=1e-12, elementwise_affine=True)\n",
              "      (dropout): Dropout(p=0.1, inplace=False)\n",
              "    )\n",
              "    (transformer): Transformer(\n",
              "      (layer): ModuleList(\n",
              "        (0-5): 6 x TransformerBlock(\n",
              "          (attention): MultiHeadSelfAttention(\n",
              "            (dropout): Dropout(p=0.1, inplace=False)\n",
              "            (q_lin): Linear(in_features=768, out_features=768, bias=True)\n",
              "            (k_lin): Linear(in_features=768, out_features=768, bias=True)\n",
              "            (v_lin): Linear(in_features=768, out_features=768, bias=True)\n",
              "            (out_lin): Linear(in_features=768, out_features=768, bias=True)\n",
              "          )\n",
              "          (sa_layer_norm): LayerNorm((768,), eps=1e-12, elementwise_affine=True)\n",
              "          (ffn): FFN(\n",
              "            (dropout): Dropout(p=0.1, inplace=False)\n",
              "            (lin1): Linear(in_features=768, out_features=3072, bias=True)\n",
              "            (lin2): Linear(in_features=3072, out_features=768, bias=True)\n",
              "            (activation): GELUActivation()\n",
              "          )\n",
              "          (output_layer_norm): LayerNorm((768,), eps=1e-12, elementwise_affine=True)\n",
              "        )\n",
              "      )\n",
              "    )\n",
              "  )\n",
              "  (pre_classifier): Linear(in_features=768, out_features=768, bias=True)\n",
              "  (classifier): Linear(in_features=768, out_features=4, bias=True)\n",
              "  (dropout): Dropout(p=0.2, inplace=False)\n",
              ")"
            ]
          },
          "metadata": {},
          "execution_count": 25
        }
      ]
    },
    {
      "cell_type": "markdown",
      "source": [
        "##7.Training model"
      ],
      "metadata": {
        "id": "mty7bfg_lZqv"
      }
    },
    {
      "cell_type": "code",
      "source": [
        "optimizer = AdamW(model.parameters(),\n",
        "                  lr=3.306430502342561e-06,\n",
        "                  weight_decay=0.65\n",
        "                )"
      ],
      "metadata": {
        "colab": {
          "base_uri": "https://localhost:8080/"
        },
        "id": "0K41J_kyPR_z",
        "outputId": "30fe061e-2929-43ba-933e-2a77fcf8be59"
      },
      "execution_count": null,
      "outputs": [
        {
          "output_type": "stream",
          "name": "stderr",
          "text": [
            "/usr/local/lib/python3.10/dist-packages/transformers/optimization.py:521: FutureWarning: This implementation of AdamW is deprecated and will be removed in a future version. Use the PyTorch implementation torch.optim.AdamW instead, or set `no_deprecation_warning=True` to disable this warning\n",
            "  warnings.warn(\n"
          ]
        }
      ]
    },
    {
      "cell_type": "code",
      "source": [
        "epochs = 5\n",
        "training_stats = []\n",
        "valid_stats = []\n",
        "best_valid_loss = float('inf')\n",
        "for epoch in range(epochs):\n",
        "    # train\n",
        "    train(model, train_dataloader, optimizer,device)\n",
        "    # validate\n",
        "    validating(model, valid_dataloader,device)\n",
        "    # check validation loss\n",
        "    if valid_stats[epoch]['Val Loss'] < best_valid_loss:\n",
        "        print('Saving model ...')\n",
        "        best_valid_loss = valid_stats[epoch]['Val Loss']\n",
        "        # save best model for use later\n",
        "        torch.save(model.state_dict(), 'distilbert-model1.pt')  # torch save\n",
        "        model_to_save = model.module if hasattr(model, 'module') else model\n",
        "        model_to_save.save_pretrained('./model_save/')  # transformers save\n",
        "        tokenizer.save_pretrained('./model_save/')  # transformers save"
      ],
      "metadata": {
        "colab": {
          "base_uri": "https://localhost:8080/"
        },
        "id": "kqx3SyndPkkd",
        "outputId": "ec6dcd59-8a1e-4208-ffaf-f29fcf4b1927"
      },
      "execution_count": null,
      "outputs": [
        {
          "output_type": "stream",
          "name": "stdout",
          "text": [
            "\n",
            "======== Epoch 1 / 5 ========\n",
            "Training...\n",
            "  Batch    40  of     99.\n",
            "  Batch    80  of     99.\n",
            "\n",
            "summary results\n",
            "epoch | trn loss | trn acc \n",
            "    1 | 0.31283 | 0.89864 | \n",
            "\n",
            "Running Validation...\n",
            "\n",
            "summary results\n",
            "epoch | val loss | val acc\n",
            "    1 | 0.39539 | 0.84637\n",
            "Saving model ...\n",
            "\n",
            "======== Epoch 2 / 5 ========\n",
            "Training...\n",
            "  Batch    40  of     99.\n",
            "  Batch    80  of     99.\n",
            "\n",
            "summary results\n",
            "epoch | trn loss | trn acc \n",
            "    2 | 0.27324 | 0.91000 | \n",
            "\n",
            "Running Validation...\n",
            "\n",
            "summary results\n",
            "epoch | val loss | val acc\n",
            "    2 | 0.38461 | 0.85140\n",
            "Saving model ...\n",
            "\n",
            "======== Epoch 3 / 5 ========\n",
            "Training...\n",
            "  Batch    40  of     99.\n",
            "  Batch    80  of     99.\n",
            "\n",
            "summary results\n",
            "epoch | trn loss | trn acc \n",
            "    3 | 0.23499 | 0.92564 | \n",
            "\n",
            "Running Validation...\n",
            "\n",
            "summary results\n",
            "epoch | val loss | val acc\n",
            "    3 | 0.36996 | 0.86320\n",
            "Saving model ...\n",
            "\n",
            "======== Epoch 4 / 5 ========\n",
            "Training...\n",
            "  Batch    40  of     99.\n",
            "  Batch    80  of     99.\n",
            "\n",
            "summary results\n",
            "epoch | trn loss | trn acc \n",
            "    4 | 0.20897 | 0.93268 | \n",
            "\n",
            "Running Validation...\n",
            "\n",
            "summary results\n",
            "epoch | val loss | val acc\n",
            "    4 | 0.36433 | 0.86101\n",
            "Saving model ...\n",
            "\n",
            "======== Epoch 5 / 5 ========\n",
            "Training...\n",
            "  Batch    40  of     99.\n",
            "  Batch    80  of     99.\n",
            "\n",
            "summary results\n",
            "epoch | trn loss | trn acc \n",
            "    5 | 0.18283 | 0.94057 | \n",
            "\n",
            "Running Validation...\n",
            "\n",
            "summary results\n",
            "epoch | val loss | val acc\n",
            "    5 | 0.37990 | 0.86364\n"
          ]
        }
      ]
    },
    {
      "cell_type": "markdown",
      "source": [
        "##8.Visualizing Results"
      ],
      "metadata": {
        "id": "gKzVWsxCuvTw"
      }
    },
    {
      "cell_type": "code",
      "source": [
        "# organize results\n",
        "pd.set_option('display.precision', 3)\n",
        "df_train_stats = pd.DataFrame(data=training_stats)\n",
        "df_valid_stats = pd.DataFrame(data=valid_stats)\n",
        "df_stats = pd.concat([df_train_stats, df_valid_stats], axis=1)\n",
        "df_stats.insert(0, 'Epoch', range(1, len(df_stats)+1))\n",
        "df_stats = df_stats.set_index('Epoch')\n",
        "df_stats"
      ],
      "metadata": {
        "colab": {
          "base_uri": "https://localhost:8080/",
          "height": 238
        },
        "id": "9H4c8SFPPtJz",
        "outputId": "81e4b21d-6532-40e9-877c-3a4ce1ea9609"
      },
      "execution_count": null,
      "outputs": [
        {
          "output_type": "execute_result",
          "data": {
            "text/plain": [
              "       Train Loss  Train Acc  Val Loss  Val Accur.\n",
              "Epoch                                             \n",
              "1           0.313      0.899     0.395       0.846\n",
              "2           0.273      0.910     0.385       0.851\n",
              "3           0.235      0.926     0.370       0.863\n",
              "4           0.209      0.933     0.364       0.861\n",
              "5           0.183      0.941     0.380       0.864"
            ],
            "text/html": [
              "\n",
              "  <div id=\"df-8d052a72-48eb-401b-b2e3-0128db827631\" class=\"colab-df-container\">\n",
              "    <div>\n",
              "<style scoped>\n",
              "    .dataframe tbody tr th:only-of-type {\n",
              "        vertical-align: middle;\n",
              "    }\n",
              "\n",
              "    .dataframe tbody tr th {\n",
              "        vertical-align: top;\n",
              "    }\n",
              "\n",
              "    .dataframe thead th {\n",
              "        text-align: right;\n",
              "    }\n",
              "</style>\n",
              "<table border=\"1\" class=\"dataframe\">\n",
              "  <thead>\n",
              "    <tr style=\"text-align: right;\">\n",
              "      <th></th>\n",
              "      <th>Train Loss</th>\n",
              "      <th>Train Acc</th>\n",
              "      <th>Val Loss</th>\n",
              "      <th>Val Accur.</th>\n",
              "    </tr>\n",
              "    <tr>\n",
              "      <th>Epoch</th>\n",
              "      <th></th>\n",
              "      <th></th>\n",
              "      <th></th>\n",
              "      <th></th>\n",
              "    </tr>\n",
              "  </thead>\n",
              "  <tbody>\n",
              "    <tr>\n",
              "      <th>1</th>\n",
              "      <td>0.313</td>\n",
              "      <td>0.899</td>\n",
              "      <td>0.395</td>\n",
              "      <td>0.846</td>\n",
              "    </tr>\n",
              "    <tr>\n",
              "      <th>2</th>\n",
              "      <td>0.273</td>\n",
              "      <td>0.910</td>\n",
              "      <td>0.385</td>\n",
              "      <td>0.851</td>\n",
              "    </tr>\n",
              "    <tr>\n",
              "      <th>3</th>\n",
              "      <td>0.235</td>\n",
              "      <td>0.926</td>\n",
              "      <td>0.370</td>\n",
              "      <td>0.863</td>\n",
              "    </tr>\n",
              "    <tr>\n",
              "      <th>4</th>\n",
              "      <td>0.209</td>\n",
              "      <td>0.933</td>\n",
              "      <td>0.364</td>\n",
              "      <td>0.861</td>\n",
              "    </tr>\n",
              "    <tr>\n",
              "      <th>5</th>\n",
              "      <td>0.183</td>\n",
              "      <td>0.941</td>\n",
              "      <td>0.380</td>\n",
              "      <td>0.864</td>\n",
              "    </tr>\n",
              "  </tbody>\n",
              "</table>\n",
              "</div>\n",
              "    <div class=\"colab-df-buttons\">\n",
              "\n",
              "  <div class=\"colab-df-container\">\n",
              "    <button class=\"colab-df-convert\" onclick=\"convertToInteractive('df-8d052a72-48eb-401b-b2e3-0128db827631')\"\n",
              "            title=\"Convert this dataframe to an interactive table.\"\n",
              "            style=\"display:none;\">\n",
              "\n",
              "  <svg xmlns=\"http://www.w3.org/2000/svg\" height=\"24px\" viewBox=\"0 -960 960 960\">\n",
              "    <path d=\"M120-120v-720h720v720H120Zm60-500h600v-160H180v160Zm220 220h160v-160H400v160Zm0 220h160v-160H400v160ZM180-400h160v-160H180v160Zm440 0h160v-160H620v160ZM180-180h160v-160H180v160Zm440 0h160v-160H620v160Z\"/>\n",
              "  </svg>\n",
              "    </button>\n",
              "\n",
              "  <style>\n",
              "    .colab-df-container {\n",
              "      display:flex;\n",
              "      gap: 12px;\n",
              "    }\n",
              "\n",
              "    .colab-df-convert {\n",
              "      background-color: #E8F0FE;\n",
              "      border: none;\n",
              "      border-radius: 50%;\n",
              "      cursor: pointer;\n",
              "      display: none;\n",
              "      fill: #1967D2;\n",
              "      height: 32px;\n",
              "      padding: 0 0 0 0;\n",
              "      width: 32px;\n",
              "    }\n",
              "\n",
              "    .colab-df-convert:hover {\n",
              "      background-color: #E2EBFA;\n",
              "      box-shadow: 0px 1px 2px rgba(60, 64, 67, 0.3), 0px 1px 3px 1px rgba(60, 64, 67, 0.15);\n",
              "      fill: #174EA6;\n",
              "    }\n",
              "\n",
              "    .colab-df-buttons div {\n",
              "      margin-bottom: 4px;\n",
              "    }\n",
              "\n",
              "    [theme=dark] .colab-df-convert {\n",
              "      background-color: #3B4455;\n",
              "      fill: #D2E3FC;\n",
              "    }\n",
              "\n",
              "    [theme=dark] .colab-df-convert:hover {\n",
              "      background-color: #434B5C;\n",
              "      box-shadow: 0px 1px 3px 1px rgba(0, 0, 0, 0.15);\n",
              "      filter: drop-shadow(0px 1px 2px rgba(0, 0, 0, 0.3));\n",
              "      fill: #FFFFFF;\n",
              "    }\n",
              "  </style>\n",
              "\n",
              "    <script>\n",
              "      const buttonEl =\n",
              "        document.querySelector('#df-8d052a72-48eb-401b-b2e3-0128db827631 button.colab-df-convert');\n",
              "      buttonEl.style.display =\n",
              "        google.colab.kernel.accessAllowed ? 'block' : 'none';\n",
              "\n",
              "      async function convertToInteractive(key) {\n",
              "        const element = document.querySelector('#df-8d052a72-48eb-401b-b2e3-0128db827631');\n",
              "        const dataTable =\n",
              "          await google.colab.kernel.invokeFunction('convertToInteractive',\n",
              "                                                    [key], {});\n",
              "        if (!dataTable) return;\n",
              "\n",
              "        const docLinkHtml = 'Like what you see? Visit the ' +\n",
              "          '<a target=\"_blank\" href=https://colab.research.google.com/notebooks/data_table.ipynb>data table notebook</a>'\n",
              "          + ' to learn more about interactive tables.';\n",
              "        element.innerHTML = '';\n",
              "        dataTable['output_type'] = 'display_data';\n",
              "        await google.colab.output.renderOutput(dataTable, element);\n",
              "        const docLink = document.createElement('div');\n",
              "        docLink.innerHTML = docLinkHtml;\n",
              "        element.appendChild(docLink);\n",
              "      }\n",
              "    </script>\n",
              "  </div>\n",
              "\n",
              "\n",
              "<div id=\"df-a6ed6adf-2424-449e-8b43-5f49b59d036d\">\n",
              "  <button class=\"colab-df-quickchart\" onclick=\"quickchart('df-a6ed6adf-2424-449e-8b43-5f49b59d036d')\"\n",
              "            title=\"Suggest charts\"\n",
              "            style=\"display:none;\">\n",
              "\n",
              "<svg xmlns=\"http://www.w3.org/2000/svg\" height=\"24px\"viewBox=\"0 0 24 24\"\n",
              "     width=\"24px\">\n",
              "    <g>\n",
              "        <path d=\"M19 3H5c-1.1 0-2 .9-2 2v14c0 1.1.9 2 2 2h14c1.1 0 2-.9 2-2V5c0-1.1-.9-2-2-2zM9 17H7v-7h2v7zm4 0h-2V7h2v10zm4 0h-2v-4h2v4z\"/>\n",
              "    </g>\n",
              "</svg>\n",
              "  </button>\n",
              "\n",
              "<style>\n",
              "  .colab-df-quickchart {\n",
              "      --bg-color: #E8F0FE;\n",
              "      --fill-color: #1967D2;\n",
              "      --hover-bg-color: #E2EBFA;\n",
              "      --hover-fill-color: #174EA6;\n",
              "      --disabled-fill-color: #AAA;\n",
              "      --disabled-bg-color: #DDD;\n",
              "  }\n",
              "\n",
              "  [theme=dark] .colab-df-quickchart {\n",
              "      --bg-color: #3B4455;\n",
              "      --fill-color: #D2E3FC;\n",
              "      --hover-bg-color: #434B5C;\n",
              "      --hover-fill-color: #FFFFFF;\n",
              "      --disabled-bg-color: #3B4455;\n",
              "      --disabled-fill-color: #666;\n",
              "  }\n",
              "\n",
              "  .colab-df-quickchart {\n",
              "    background-color: var(--bg-color);\n",
              "    border: none;\n",
              "    border-radius: 50%;\n",
              "    cursor: pointer;\n",
              "    display: none;\n",
              "    fill: var(--fill-color);\n",
              "    height: 32px;\n",
              "    padding: 0;\n",
              "    width: 32px;\n",
              "  }\n",
              "\n",
              "  .colab-df-quickchart:hover {\n",
              "    background-color: var(--hover-bg-color);\n",
              "    box-shadow: 0 1px 2px rgba(60, 64, 67, 0.3), 0 1px 3px 1px rgba(60, 64, 67, 0.15);\n",
              "    fill: var(--button-hover-fill-color);\n",
              "  }\n",
              "\n",
              "  .colab-df-quickchart-complete:disabled,\n",
              "  .colab-df-quickchart-complete:disabled:hover {\n",
              "    background-color: var(--disabled-bg-color);\n",
              "    fill: var(--disabled-fill-color);\n",
              "    box-shadow: none;\n",
              "  }\n",
              "\n",
              "  .colab-df-spinner {\n",
              "    border: 2px solid var(--fill-color);\n",
              "    border-color: transparent;\n",
              "    border-bottom-color: var(--fill-color);\n",
              "    animation:\n",
              "      spin 1s steps(1) infinite;\n",
              "  }\n",
              "\n",
              "  @keyframes spin {\n",
              "    0% {\n",
              "      border-color: transparent;\n",
              "      border-bottom-color: var(--fill-color);\n",
              "      border-left-color: var(--fill-color);\n",
              "    }\n",
              "    20% {\n",
              "      border-color: transparent;\n",
              "      border-left-color: var(--fill-color);\n",
              "      border-top-color: var(--fill-color);\n",
              "    }\n",
              "    30% {\n",
              "      border-color: transparent;\n",
              "      border-left-color: var(--fill-color);\n",
              "      border-top-color: var(--fill-color);\n",
              "      border-right-color: var(--fill-color);\n",
              "    }\n",
              "    40% {\n",
              "      border-color: transparent;\n",
              "      border-right-color: var(--fill-color);\n",
              "      border-top-color: var(--fill-color);\n",
              "    }\n",
              "    60% {\n",
              "      border-color: transparent;\n",
              "      border-right-color: var(--fill-color);\n",
              "    }\n",
              "    80% {\n",
              "      border-color: transparent;\n",
              "      border-right-color: var(--fill-color);\n",
              "      border-bottom-color: var(--fill-color);\n",
              "    }\n",
              "    90% {\n",
              "      border-color: transparent;\n",
              "      border-bottom-color: var(--fill-color);\n",
              "    }\n",
              "  }\n",
              "</style>\n",
              "\n",
              "  <script>\n",
              "    async function quickchart(key) {\n",
              "      const quickchartButtonEl =\n",
              "        document.querySelector('#' + key + ' button');\n",
              "      quickchartButtonEl.disabled = true;  // To prevent multiple clicks.\n",
              "      quickchartButtonEl.classList.add('colab-df-spinner');\n",
              "      try {\n",
              "        const charts = await google.colab.kernel.invokeFunction(\n",
              "            'suggestCharts', [key], {});\n",
              "      } catch (error) {\n",
              "        console.error('Error during call to suggestCharts:', error);\n",
              "      }\n",
              "      quickchartButtonEl.classList.remove('colab-df-spinner');\n",
              "      quickchartButtonEl.classList.add('colab-df-quickchart-complete');\n",
              "    }\n",
              "    (() => {\n",
              "      let quickchartButtonEl =\n",
              "        document.querySelector('#df-a6ed6adf-2424-449e-8b43-5f49b59d036d button');\n",
              "      quickchartButtonEl.style.display =\n",
              "        google.colab.kernel.accessAllowed ? 'block' : 'none';\n",
              "    })();\n",
              "  </script>\n",
              "</div>\n",
              "\n",
              "  <div id=\"id_1696cf34-87d9-4a96-b9e6-f3e4c4847428\">\n",
              "    <style>\n",
              "      .colab-df-generate {\n",
              "        background-color: #E8F0FE;\n",
              "        border: none;\n",
              "        border-radius: 50%;\n",
              "        cursor: pointer;\n",
              "        display: none;\n",
              "        fill: #1967D2;\n",
              "        height: 32px;\n",
              "        padding: 0 0 0 0;\n",
              "        width: 32px;\n",
              "      }\n",
              "\n",
              "      .colab-df-generate:hover {\n",
              "        background-color: #E2EBFA;\n",
              "        box-shadow: 0px 1px 2px rgba(60, 64, 67, 0.3), 0px 1px 3px 1px rgba(60, 64, 67, 0.15);\n",
              "        fill: #174EA6;\n",
              "      }\n",
              "\n",
              "      [theme=dark] .colab-df-generate {\n",
              "        background-color: #3B4455;\n",
              "        fill: #D2E3FC;\n",
              "      }\n",
              "\n",
              "      [theme=dark] .colab-df-generate:hover {\n",
              "        background-color: #434B5C;\n",
              "        box-shadow: 0px 1px 3px 1px rgba(0, 0, 0, 0.15);\n",
              "        filter: drop-shadow(0px 1px 2px rgba(0, 0, 0, 0.3));\n",
              "        fill: #FFFFFF;\n",
              "      }\n",
              "    </style>\n",
              "    <button class=\"colab-df-generate\" onclick=\"generateWithVariable('df_stats')\"\n",
              "            title=\"Generate code using this dataframe.\"\n",
              "            style=\"display:none;\">\n",
              "\n",
              "  <svg xmlns=\"http://www.w3.org/2000/svg\" height=\"24px\"viewBox=\"0 0 24 24\"\n",
              "       width=\"24px\">\n",
              "    <path d=\"M7,19H8.4L18.45,9,17,7.55,7,17.6ZM5,21V16.75L18.45,3.32a2,2,0,0,1,2.83,0l1.4,1.43a1.91,1.91,0,0,1,.58,1.4,1.91,1.91,0,0,1-.58,1.4L9.25,21ZM18.45,9,17,7.55Zm-12,3A5.31,5.31,0,0,0,4.9,8.1,5.31,5.31,0,0,0,1,6.5,5.31,5.31,0,0,0,4.9,4.9,5.31,5.31,0,0,0,6.5,1,5.31,5.31,0,0,0,8.1,4.9,5.31,5.31,0,0,0,12,6.5,5.46,5.46,0,0,0,6.5,12Z\"/>\n",
              "  </svg>\n",
              "    </button>\n",
              "    <script>\n",
              "      (() => {\n",
              "      const buttonEl =\n",
              "        document.querySelector('#id_1696cf34-87d9-4a96-b9e6-f3e4c4847428 button.colab-df-generate');\n",
              "      buttonEl.style.display =\n",
              "        google.colab.kernel.accessAllowed ? 'block' : 'none';\n",
              "\n",
              "      buttonEl.onclick = () => {\n",
              "        google.colab.notebook.generateWithVariable('df_stats');\n",
              "      }\n",
              "      })();\n",
              "    </script>\n",
              "  </div>\n",
              "\n",
              "    </div>\n",
              "  </div>\n"
            ],
            "application/vnd.google.colaboratory.intrinsic+json": {
              "type": "dataframe",
              "variable_name": "df_stats",
              "summary": "{\n  \"name\": \"df_stats\",\n  \"rows\": 5,\n  \"fields\": [\n    {\n      \"column\": \"Epoch\",\n      \"properties\": {\n        \"dtype\": \"number\",\n        \"std\": 1,\n        \"min\": 1,\n        \"max\": 5,\n        \"num_unique_values\": 5,\n        \"samples\": [\n          2,\n          5,\n          3\n        ],\n        \"semantic_type\": \"\",\n        \"description\": \"\"\n      }\n    },\n    {\n      \"column\": \"Train Loss\",\n      \"properties\": {\n        \"dtype\": \"number\",\n        \"std\": 0.051557650138449436,\n        \"min\": 0.18282973168022704,\n        \"max\": 0.3128324756869162,\n        \"num_unique_values\": 5,\n        \"samples\": [\n          0.273242899263748,\n          0.18282973168022704,\n          0.23498659084240595\n        ],\n        \"semantic_type\": \"\",\n        \"description\": \"\"\n      }\n    },\n    {\n      \"column\": \"Train Acc\",\n      \"properties\": {\n        \"dtype\": \"number\",\n        \"std\": 0.017034403918855707,\n        \"min\": 0.8986363636363637,\n        \"max\": 0.9405681818181818,\n        \"num_unique_values\": 5,\n        \"samples\": [\n          0.91,\n          0.9405681818181818,\n          0.9256439393939394\n        ],\n        \"semantic_type\": \"\",\n        \"description\": \"\"\n      }\n    },\n    {\n      \"column\": \"Val Loss\",\n      \"properties\": {\n        \"dtype\": \"number\",\n        \"std\": 0.012224920037089436,\n        \"min\": 0.364330244752077,\n        \"max\": 0.39539309992240024,\n        \"num_unique_values\": 5,\n        \"samples\": [\n          0.38460658261409175,\n          0.37989908915299636,\n          0.3699584769514891\n        ],\n        \"semantic_type\": \"\",\n        \"description\": \"\"\n      }\n    },\n    {\n      \"column\": \"Val Accur.\",\n      \"properties\": {\n        \"dtype\": \"number\",\n        \"std\": 0.007791497332426311,\n        \"min\": 0.8463723776223776,\n        \"max\": 0.8636363636363635,\n        \"num_unique_values\": 5,\n        \"samples\": [\n          0.8513986013986015,\n          0.8636363636363635,\n          0.8631993006993006\n        ],\n        \"semantic_type\": \"\",\n        \"description\": \"\"\n      }\n    }\n  ]\n}"
            }
          },
          "metadata": {},
          "execution_count": 76
        }
      ]
    },
    {
      "cell_type": "code",
      "source": [
        "# plot results\n",
        "def plot_results(df):\n",
        "    # styling from seaborn.\n",
        "    sns.set(style='darkgrid')\n",
        "    # uncrease the plot size and font size.\n",
        "    sns.set(font_scale=1.5)\n",
        "    plt.rcParams[\"figure.figsize\"] = (12,6)\n",
        "\n",
        "    # plot the learning curve.\n",
        "    plt.plot(df_stats['Train Loss'], 'b-o', label=\"Training\")\n",
        "    plt.plot(df_stats['Val Loss'], 'g-o', label=\"Validation\")\n",
        "\n",
        "    # Label the plot.\n",
        "    plt.title(\"Training & Validation Loss\")\n",
        "    plt.xlabel(\"Epoch\")\n",
        "    plt.ylabel(\"Loss\")\n",
        "    plt.legend()\n",
        "    plt.xticks(list(range(1, epochs+1)))\n",
        "    return plt.show()\n",
        "\n",
        "\n",
        "plot_results(df_stats)"
      ],
      "metadata": {
        "colab": {
          "base_uri": "https://localhost:8080/",
          "height": 509
        },
        "id": "20JXBnCygYSs",
        "outputId": "e421c8bc-8e43-487c-c962-ace7a8ea65c8"
      },
      "execution_count": null,
      "outputs": [
        {
          "output_type": "display_data",
          "data": {
            "text/plain": [
              "<Figure size 1200x600 with 1 Axes>"
            ],
            "image/png": "[encoded data removed]"
          },
          "metadata": {}
        }
      ]
    },
    {
      "cell_type": "markdown",
      "source": [
        "##9.Testing model and Inference with random single text"
      ],
      "metadata": {
        "id": "hMjjZtOzlhbT"
      }
    },
    {
      "cell_type": "code",
      "source": [
        "# test the model\n",
        "test_stats = []\n",
        "model.load_state_dict(torch.load('distilbert-model1.pt'))"
      ],
      "metadata": {
        "colab": {
          "base_uri": "https://localhost:8080/"
        },
        "id": "xb3MVPvVgmmP",
        "outputId": "aea7d98b-c5d3-4ca9-ea12-3f0219dea7d2"
      },
      "execution_count": null,
      "outputs": [
        {
          "output_type": "execute_result",
          "data": {
            "text/plain": [
              "<All keys matched successfully>"
            ]
          },
          "metadata": {},
          "execution_count": 30
        }
      ]
    },
    {
      "cell_type": "code",
      "source": [
        "testing(model, test_dataloader,device)"
      ],
      "metadata": {
        "colab": {
          "base_uri": "https://localhost:8080/"
        },
        "id": "02lvobhFgsFd",
        "outputId": "4003cf04-a3d1-4270-a5f0-10e71eb0af30"
      },
      "execution_count": null,
      "outputs": [
        {
          "output_type": "stream",
          "name": "stdout",
          "text": [
            "\n",
            "Running Testing...\n"
          ]
        }
      ]
    },
    {
      "cell_type": "code",
      "source": [
        "df_test_stats = pd.DataFrame(data=test_stats)\n",
        "df_test_stats"
      ],
      "metadata": {
        "colab": {
          "base_uri": "https://localhost:8080/",
          "height": 89
        },
        "id": "WMeUXpzqguIR",
        "outputId": "232f2288-fbd6-47c8-c681-b9c08de76c55"
      },
      "execution_count": null,
      "outputs": [
        {
          "output_type": "execute_result",
          "data": {
            "text/plain": [
              "   Val Loss  Val Accur.\n",
              "0     0.405       0.849"
            ],
            "text/html": [
              "\n",
              "  <div id=\"df-31a840b6-6850-4527-ad33-19278a9237ed\" class=\"colab-df-container\">\n",
              "    <div>\n",
              "<style scoped>\n",
              "    .dataframe tbody tr th:only-of-type {\n",
              "        vertical-align: middle;\n",
              "    }\n",
              "\n",
              "    .dataframe tbody tr th {\n",
              "        vertical-align: top;\n",
              "    }\n",
              "\n",
              "    .dataframe thead th {\n",
              "        text-align: right;\n",
              "    }\n",
              "</style>\n",
              "<table border=\"1\" class=\"dataframe\">\n",
              "  <thead>\n",
              "    <tr style=\"text-align: right;\">\n",
              "      <th></th>\n",
              "      <th>Val Loss</th>\n",
              "      <th>Val Accur.</th>\n",
              "    </tr>\n",
              "  </thead>\n",
              "  <tbody>\n",
              "    <tr>\n",
              "      <th>0</th>\n",
              "      <td>0.405</td>\n",
              "      <td>0.849</td>\n",
              "    </tr>\n",
              "  </tbody>\n",
              "</table>\n",
              "</div>\n",
              "    <div class=\"colab-df-buttons\">\n",
              "\n",
              "  <div class=\"colab-df-container\">\n",
              "    <button class=\"colab-df-convert\" onclick=\"convertToInteractive('df-31a840b6-6850-4527-ad33-19278a9237ed')\"\n",
              "            title=\"Convert this dataframe to an interactive table.\"\n",
              "            style=\"display:none;\">\n",
              "\n",
              "  <svg xmlns=\"http://www.w3.org/2000/svg\" height=\"24px\" viewBox=\"0 -960 960 960\">\n",
              "    <path d=\"M120-120v-720h720v720H120Zm60-500h600v-160H180v160Zm220 220h160v-160H400v160Zm0 220h160v-160H400v160ZM180-400h160v-160H180v160Zm440 0h160v-160H620v160ZM180-180h160v-160H180v160Zm440 0h160v-160H620v160Z\"/>\n",
              "  </svg>\n",
              "    </button>\n",
              "\n",
              "  <style>\n",
              "    .colab-df-container {\n",
              "      display:flex;\n",
              "      gap: 12px;\n",
              "    }\n",
              "\n",
              "    .colab-df-convert {\n",
              "      background-color: #E8F0FE;\n",
              "      border: none;\n",
              "      border-radius: 50%;\n",
              "      cursor: pointer;\n",
              "      display: none;\n",
              "      fill: #1967D2;\n",
              "      height: 32px;\n",
              "      padding: 0 0 0 0;\n",
              "      width: 32px;\n",
              "    }\n",
              "\n",
              "    .colab-df-convert:hover {\n",
              "      background-color: #E2EBFA;\n",
              "      box-shadow: 0px 1px 2px rgba(60, 64, 67, 0.3), 0px 1px 3px 1px rgba(60, 64, 67, 0.15);\n",
              "      fill: #174EA6;\n",
              "    }\n",
              "\n",
              "    .colab-df-buttons div {\n",
              "      margin-bottom: 4px;\n",
              "    }\n",
              "\n",
              "    [theme=dark] .colab-df-convert {\n",
              "      background-color: #3B4455;\n",
              "      fill: #D2E3FC;\n",
              "    }\n",
              "\n",
              "    [theme=dark] .colab-df-convert:hover {\n",
              "      background-color: #434B5C;\n",
              "      box-shadow: 0px 1px 3px 1px rgba(0, 0, 0, 0.15);\n",
              "      filter: drop-shadow(0px 1px 2px rgba(0, 0, 0, 0.3));\n",
              "      fill: #FFFFFF;\n",
              "    }\n",
              "  </style>\n",
              "\n",
              "    <script>\n",
              "      const buttonEl =\n",
              "        document.querySelector('#df-31a840b6-6850-4527-ad33-19278a9237ed button.colab-df-convert');\n",
              "      buttonEl.style.display =\n",
              "        google.colab.kernel.accessAllowed ? 'block' : 'none';\n",
              "\n",
              "      async function convertToInteractive(key) {\n",
              "        const element = document.querySelector('#df-31a840b6-6850-4527-ad33-19278a9237ed');\n",
              "        const dataTable =\n",
              "          await google.colab.kernel.invokeFunction('convertToInteractive',\n",
              "                                                    [key], {});\n",
              "        if (!dataTable) return;\n",
              "\n",
              "        const docLinkHtml = 'Like what you see? Visit the ' +\n",
              "          '<a target=\"_blank\" href=https://colab.research.google.com/notebooks/data_table.ipynb>data table notebook</a>'\n",
              "          + ' to learn more about interactive tables.';\n",
              "        element.innerHTML = '';\n",
              "        dataTable['output_type'] = 'display_data';\n",
              "        await google.colab.output.renderOutput(dataTable, element);\n",
              "        const docLink = document.createElement('div');\n",
              "        docLink.innerHTML = docLinkHtml;\n",
              "        element.appendChild(docLink);\n",
              "      }\n",
              "    </script>\n",
              "  </div>\n",
              "\n",
              "\n",
              "  <div id=\"id_4fb327dd-059b-4697-bb12-21ad509c67ef\">\n",
              "    <style>\n",
              "      .colab-df-generate {\n",
              "        background-color: #E8F0FE;\n",
              "        border: none;\n",
              "        border-radius: 50%;\n",
              "        cursor: pointer;\n",
              "        display: none;\n",
              "        fill: #1967D2;\n",
              "        height: 32px;\n",
              "        padding: 0 0 0 0;\n",
              "        width: 32px;\n",
              "      }\n",
              "\n",
              "      .colab-df-generate:hover {\n",
              "        background-color: #E2EBFA;\n",
              "        box-shadow: 0px 1px 2px rgba(60, 64, 67, 0.3), 0px 1px 3px 1px rgba(60, 64, 67, 0.15);\n",
              "        fill: #174EA6;\n",
              "      }\n",
              "\n",
              "      [theme=dark] .colab-df-generate {\n",
              "        background-color: #3B4455;\n",
              "        fill: #D2E3FC;\n",
              "      }\n",
              "\n",
              "      [theme=dark] .colab-df-generate:hover {\n",
              "        background-color: #434B5C;\n",
              "        box-shadow: 0px 1px 3px 1px rgba(0, 0, 0, 0.15);\n",
              "        filter: drop-shadow(0px 1px 2px rgba(0, 0, 0, 0.3));\n",
              "        fill: #FFFFFF;\n",
              "      }\n",
              "    </style>\n",
              "    <button class=\"colab-df-generate\" onclick=\"generateWithVariable('df_test_stats')\"\n",
              "            title=\"Generate code using this dataframe.\"\n",
              "            style=\"display:none;\">\n",
              "\n",
              "  <svg xmlns=\"http://www.w3.org/2000/svg\" height=\"24px\"viewBox=\"0 0 24 24\"\n",
              "       width=\"24px\">\n",
              "    <path d=\"M7,19H8.4L18.45,9,17,7.55,7,17.6ZM5,21V16.75L18.45,3.32a2,2,0,0,1,2.83,0l1.4,1.43a1.91,1.91,0,0,1,.58,1.4,1.91,1.91,0,0,1-.58,1.4L9.25,21ZM18.45,9,17,7.55Zm-12,3A5.31,5.31,0,0,0,4.9,8.1,5.31,5.31,0,0,0,1,6.5,5.31,5.31,0,0,0,4.9,4.9,5.31,5.31,0,0,0,6.5,1,5.31,5.31,0,0,0,8.1,4.9,5.31,5.31,0,0,0,12,6.5,5.46,5.46,0,0,0,6.5,12Z\"/>\n",
              "  </svg>\n",
              "    </button>\n",
              "    <script>\n",
              "      (() => {\n",
              "      const buttonEl =\n",
              "        document.querySelector('#id_4fb327dd-059b-4697-bb12-21ad509c67ef button.colab-df-generate');\n",
              "      buttonEl.style.display =\n",
              "        google.colab.kernel.accessAllowed ? 'block' : 'none';\n",
              "\n",
              "      buttonEl.onclick = () => {\n",
              "        google.colab.notebook.generateWithVariable('df_test_stats');\n",
              "      }\n",
              "      })();\n",
              "    </script>\n",
              "  </div>\n",
              "\n",
              "    </div>\n",
              "  </div>\n"
            ],
            "application/vnd.google.colaboratory.intrinsic+json": {
              "type": "dataframe",
              "variable_name": "df_test_stats",
              "summary": "{\n  \"name\": \"df_test_stats\",\n  \"rows\": 1,\n  \"fields\": [\n    {\n      \"column\": \"Val Loss\",\n      \"properties\": {\n        \"dtype\": \"number\",\n        \"std\": null,\n        \"min\": 0.4046043661924509,\n        \"max\": 0.4046043661924509,\n        \"num_unique_values\": 1,\n        \"samples\": [\n          0.4046043661924509\n        ],\n        \"semantic_type\": \"\",\n        \"description\": \"\"\n      }\n    },\n    {\n      \"column\": \"Val Accur.\",\n      \"properties\": {\n        \"dtype\": \"number\",\n        \"std\": null,\n        \"min\": 0.8493589743589743,\n        \"max\": 0.8493589743589743,\n        \"num_unique_values\": 1,\n        \"samples\": [\n          0.8493589743589743\n        ],\n        \"semantic_type\": \"\",\n        \"description\": \"\"\n      }\n    }\n  ]\n}"
            }
          },
          "metadata": {},
          "execution_count": 32
        }
      ]
    },
    {
      "cell_type": "code",
      "source": [
        "#Inference with single text"
      ],
      "metadata": {
        "id": "aB9MHRfJkzCH"
      },
      "execution_count": null,
      "outputs": []
    },
    {
      "cell_type": "code",
      "source": [
        "text = 'In the realm of modern technology, circuits weave intricate pathways for currents to flow, powering devices that seamlessly integrate into our lives, connecting us to a vast digital landscape of information and communication. From humble beginnings to microprocessor marvels, electronics continuously push the boundaries of innovation, shaping our daily experiences.'"
      ],
      "metadata": {
        "id": "n13M2DfigyYq"
      },
      "execution_count": null,
      "outputs": []
    },
    {
      "cell_type": "code",
      "source": [
        "text =input()"
      ],
      "metadata": {
        "colab": {
          "base_uri": "https://localhost:8080/"
        },
        "id": "MLC8gUWJryZa",
        "outputId": "d1112ad7-37cf-45b5-e2b2-a2d7cab0dc60"
      },
      "execution_count": null,
      "outputs": [
        {
          "name": "stdout",
          "output_type": "stream",
          "text": [
            " In the vast expanse beyond our atmosphere, intricate systems hum with energy, orchestrating the dance of distant signals and celestial bodies. Among these cosmic mechanisms, delicate circuits navigate the celestial currents, ensuring seamless communication across cosmic distances.\n"
          ]
        }
      ]
    },
    {
      "cell_type": "code",
      "source": [
        "def predict_class(text,tokenizer,model,target_names,device):\n",
        "  # Create tokenized data\n",
        "  tokenized_data = tokenize_corpus(text, tokenizer, 512)\n",
        "\n",
        "  # Unpack tokenized_data into input_ids and attention_masks\n",
        "  input_ids, attention_masks = tokenized_data\n",
        "\n",
        "  #Feed into the model to get the logits\n",
        "  with torch.inference_mode():\n",
        "    logits = model(input_ids=input_ids.to(device),attention_mask=attention_masks.to(device)).logits\n",
        "\n",
        "  #Getting probabilities\n",
        "  prob = torch.softmax(logits,dim=-1).squeeze().tolist()\n",
        "  #Getting the label\n",
        "  label = torch.argmax(logits,dim=-1).item()\n",
        "\n",
        "  print(f'Text: {text}\\nBelong to class [{target_names[label]}]')\n",
        "  for i in range(len(target_names)):\n",
        "    print(f'Label: [{target_names[i]}] with probability {prob[i]*100:.2f}%')\n"
      ],
      "metadata": {
        "id": "slqbUJUfkjkr"
      },
      "execution_count": null,
      "outputs": []
    },
    {
      "cell_type": "code",
      "source": [
        "predict_class(text,tokenizer,model,target_names,device)"
      ],
      "metadata": {
        "colab": {
          "base_uri": "https://localhost:8080/"
        },
        "id": "oL4Xw34RmJ5L",
        "outputId": "789d99ee-a776-474e-d60d-65ae8af99ef0"
      },
      "execution_count": null,
      "outputs": [
        {
          "output_type": "stream",
          "name": "stdout",
          "text": [
            "Text:  In the vast expanse beyond our atmosphere, intricate systems hum with energy, orchestrating the dance of distant signals and celestial bodies. Among these cosmic mechanisms, delicate circuits navigate the celestial currents, ensuring seamless communication across cosmic distances.\n",
            "Belong to class [sci.space]\n",
            "Label: [sci.crypt] with probability 0.76%\n",
            "Label: [sci.electronics] with probability 0.58%\n",
            "Label: [sci.med] with probability 1.05%\n",
            "Label: [sci.space] with probability 97.61%\n"
          ]
        }
      ]
    },
    {
      "cell_type": "code",
      "source": [],
      "metadata": {
        "id": "EgTp6iqCmPgT"
      },
      "execution_count": null,
      "outputs": []
    }
  ]
}